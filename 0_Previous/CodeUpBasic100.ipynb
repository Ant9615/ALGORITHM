{
 "cells": [
  {
   "cell_type": "code",
   "execution_count": 9,
   "metadata": {},
   "outputs": [
    {
     "name": "stdout",
     "output_type": "stream",
     "text": [
      "HelloWorld\n"
     ]
    }
   ],
   "source": [
    "st = list(map(str, input().split()))\n",
    "\n",
    "mer = \"\"\n",
    "for i in range(len(st)):\n",
    "    mer += st[i]\n",
    "\n",
    "print(mer)"
   ]
  },
  {
   "cell_type": "code",
   "execution_count": 10,
   "metadata": {},
   "outputs": [
    {
     "name": "stdout",
     "output_type": "stream",
     "text": [
      "690\n"
     ]
    }
   ],
   "source": [
    "nums = list(map(int, input().split()))\n",
    "\n",
    "sums=0\n",
    "for i in range(len(nums)):\n",
    "    sums += nums[i]\n",
    "    \n",
    "print(sums)"
   ]
  },
  {
   "cell_type": "code",
   "execution_count": 12,
   "metadata": {},
   "outputs": [
    {
     "name": "stdout",
     "output_type": "stream",
     "text": [
      "0.6\n"
     ]
    }
   ],
   "source": [
    "sums = 0\n",
    "\n",
    "for _ in range(2):\n",
    "    sums += float(input())\n",
    "\n",
    "print(sums)"
   ]
  },
  {
   "cell_type": "code",
   "execution_count": 3,
   "metadata": {},
   "outputs": [
    {
     "name": "stdout",
     "output_type": "stream",
     "text": [
      "f\n"
     ]
    }
   ],
   "source": [
    "def hexnum(x):\n",
    "    res = 0\n",
    "    nums = '0123456789abcdef'\n",
    "    while x>0:\n",
    "        res = nums[x%8]\n",
    "        x = x // 16\n",
    "    return res \n",
    "\n",
    "num = int(input())\n",
    "\n",
    "print(hexnum(num))\n"
   ]
  },
  {
   "cell_type": "code",
   "execution_count": null,
   "metadata": {},
   "outputs": [],
   "source": [
    "def octnum(x):\n",
    "    res = 0 \n",
    "    num = '0123456789abcdef'\n",
    "    while x > 0:\n",
    "        res = num[x%16]\n",
    "        x = x // 8\n",
    "    return res"
   ]
  },
  {
   "cell_type": "code",
   "execution_count": 5,
   "metadata": {},
   "outputs": [
    {
     "name": "stdout",
     "output_type": "stream",
     "text": [
      "598\n"
     ]
    }
   ],
   "source": [
    "num = input()\n",
    "\n",
    "print(int(num,16))"
   ]
  },
  {
   "cell_type": "code",
   "execution_count": 1,
   "metadata": {},
   "outputs": [
    {
     "name": "stdout",
     "output_type": "stream",
     "text": [
      "100(16)\n"
     ]
    }
   ],
   "source": [
    "def Xn(X,n):\n",
    "    if X == 0: return f'0({n})'\n",
    "    result = [f'({n})']\n",
    "    numbers = '0123456789ABCDEF'\n",
    "    while X > 0:\n",
    "        result.insert(0,numbers[X % n])\n",
    "        X = X // n\n",
    "    return ''.join(result)\n",
    "\n",
    "\n",
    "\n",
    "print(Xn(256, 16))\n",
    "# print(Xn(233, 8))\n",
    "# print(Xn(233, 16))"
   ]
  },
  {
   "cell_type": "code",
   "execution_count": 20,
   "metadata": {},
   "outputs": [
    {
     "name": "stdout",
     "output_type": "stream",
     "text": [
      "False False\n",
      "False\n"
     ]
    }
   ],
   "source": [
    "def ck_bool(a,b):\n",
    "    if boolean(a) is not boolean(b):\n",
    "        return True\n",
    "    else:\n",
    "        return False\n",
    "        \n",
    "def boolean(x):\n",
    "    if x == 0:\n",
    "        return False\n",
    "    else: \n",
    "        return True\n",
    "\n",
    "a,b = map(int, input().split())\n",
    "\n",
    "print(ck_bool(a,b))"
   ]
  },
  {
   "cell_type": "code",
   "execution_count": null,
   "metadata": {},
   "outputs": [],
   "source": [
    "def ck_bool(a,b):\n",
    "    if boolean(a) is boolean(b):\n",
    "        return True\n",
    "    else:\n",
    "        return False\n",
    "\n",
    "def boolean(x):\n",
    "    if x == 0:\n",
    "        return False\n",
    "    else: \n",
    "        return True\n",
    "\n",
    "a,b = map(int,input().split())\n",
    "print(ck_bool(a,b))"
   ]
  },
  {
   "cell_type": "code",
   "execution_count": 42,
   "metadata": {},
   "outputs": [
    {
     "name": "stdout",
     "output_type": "stream",
     "text": [
      "False\n"
     ]
    }
   ],
   "source": [
    "# 6058\n",
    "\n",
    "def ck_boolean(a,b):\n",
    "    if boolean(a) is boolean(b) == False:\n",
    "        return True\n",
    "    else: \n",
    "        return False\n",
    "        \n",
    "def boolean(x):\n",
    "    if x == 0:\n",
    "        return False\n",
    "    else:\n",
    "        return True\n",
    "        \n",
    "a,b = map(int, input().split())\n",
    "\n",
    "print(ck_boolean(a,b))"
   ]
  },
  {
   "cell_type": "code",
   "execution_count": 45,
   "metadata": {},
   "outputs": [
    {
     "name": "stdout",
     "output_type": "stream",
     "text": [
      "-3\n"
     ]
    }
   ],
   "source": [
    "a = int(input())\n",
    "print(~a)"
   ]
  },
  {
   "cell_type": "code",
   "execution_count": 46,
   "metadata": {},
   "outputs": [
    {
     "name": "stdout",
     "output_type": "stream",
     "text": [
      "1\n"
     ]
    }
   ],
   "source": [
    "a,b = map(int, input().split())\n",
    "\n",
    "print(a&b)"
   ]
  },
  {
   "cell_type": "code",
   "execution_count": 48,
   "metadata": {},
   "outputs": [
    {
     "name": "stdout",
     "output_type": "stream",
     "text": [
      "3\n"
     ]
    }
   ],
   "source": [
    "# 6064 3항 연산\n",
    "a,b = map(int, input().split())\n",
    "c = (a if a>=b else b)\n",
    "\n",
    "print(c)"
   ]
  },
  {
   "cell_type": "code",
   "execution_count": 51,
   "metadata": {},
   "outputs": [
    {
     "name": "stdout",
     "output_type": "stream",
     "text": [
      "1\n"
     ]
    }
   ],
   "source": [
    "a,b,c = map(int, input().split())\n",
    "\n",
    "d = ((a if a<b else b) if (a if a <b else b)<c else c)\n",
    "print(d)"
   ]
  },
  {
   "cell_type": "code",
   "execution_count": 52,
   "metadata": {},
   "outputs": [
    {
     "name": "stdout",
     "output_type": "stream",
     "text": [
      "2\n",
      "4\n"
     ]
    }
   ],
   "source": [
    "# 6065\n",
    "\n",
    "def ordinary(x):\n",
    "    ord = []\n",
    "    for i in range(len(x)):\n",
    "        if x[i] % 2 == 0:\n",
    "            ord.append(x[i])\n",
    "        else: \n",
    "            pass\n",
    "    return ord\n",
    "\n",
    "x = list(map(int, input().split()))\n",
    "ord = ordinary(x)\n",
    "\n",
    "for i in range(len(ord)):\n",
    "    print(ord[i])"
   ]
  },
  {
   "cell_type": "code",
   "execution_count": 1,
   "metadata": {},
   "outputs": [
    {
     "name": "stdout",
     "output_type": "stream",
     "text": [
      "odd\n",
      "even\n",
      "even\n"
     ]
    }
   ],
   "source": [
    "# 6066 \n",
    "def evenord(x):\n",
    "    res = []\n",
    "    # will change to list comprehension\n",
    "    for i in range(len(x)):\n",
    "        if x[i] % 2 == 0:\n",
    "            res.append('even')\n",
    "        else: \n",
    "            res.append('odd')\n",
    "    return res\n",
    "\n",
    "x = list(map(int, input().split()))\n",
    "res = evenord(x)\n",
    "\n",
    "for i in range(len(res)):\n",
    "    print(res[i])"
   ]
  },
  {
   "cell_type": "code",
   "execution_count": 8,
   "metadata": {},
   "outputs": [
    {
     "name": "stdout",
     "output_type": "stream",
     "text": [
      "B\n"
     ]
    }
   ],
   "source": [
    "# 6067\n",
    "\n",
    "def classifier(x):\n",
    "    if x < 0:\n",
    "        if x % 2 == 0:\n",
    "            return 'A'\n",
    "        else:\n",
    "            return 'B'\n",
    "    else:\n",
    "        if x % 2 == 0:\n",
    "            return 'C'\n",
    "        else:\n",
    "            return 'D'\n",
    "x = int(input())\n",
    "print(classifier(x))"
   ]
  },
  {
   "cell_type": "code",
   "execution_count": 11,
   "metadata": {},
   "outputs": [
    {
     "name": "stdout",
     "output_type": "stream",
     "text": [
      "D\n"
     ]
    }
   ],
   "source": [
    "# 6069\n",
    "def grade(x):\n",
    "    if x >= 90:\n",
    "        return 'A'\n",
    "    elif x >= 70:\n",
    "        return 'B'\n",
    "    elif x >= 40: \n",
    "        return 'C'\n",
    "    else: \n",
    "        return 'D'\n",
    "    \n",
    "x = int(input())\n",
    "\n",
    "print(grade(x))"
   ]
  },
  {
   "cell_type": "code",
   "execution_count": 17,
   "metadata": {},
   "outputs": [
    {
     "name": "stdout",
     "output_type": "stream",
     "text": [
      "what?\n"
     ]
    }
   ],
   "source": [
    "# 6069\n",
    "def result(res: str):\n",
    "    # can use dictionary \n",
    "    if res == 'A':\n",
    "        return 'best!!!'\n",
    "    else:\n",
    "        if res == 'B':\n",
    "            return 'good!!'\n",
    "        else: \n",
    "            if res == 'C':\n",
    "                return 'run!'\n",
    "            else:\n",
    "                if res == 'D':\n",
    "                    return 'slowly~'\n",
    "                else:\n",
    "                    return 'what?'\n",
    "                \n",
    "res = input()\n",
    "print(result(res))"
   ]
  },
  {
   "cell_type": "code",
   "execution_count": 21,
   "metadata": {},
   "outputs": [
    {
     "name": "stdout",
     "output_type": "stream",
     "text": [
      "spring\n"
     ]
    }
   ],
   "source": [
    "# 6070\n",
    "def seasons(mon):\n",
    "    if mon // 3 == 1:\n",
    "        return 'spring'\n",
    "    elif mon // 3 == 2:\n",
    "        return 'summer'\n",
    "    elif mon // 3 == 3:\n",
    "        return 'fall'\n",
    "    else: \n",
    "        return 'winter'\n",
    "    \n",
    "mon = int(input())\n",
    "print(seasons(mon))"
   ]
  },
  {
   "cell_type": "code",
   "execution_count": 1,
   "metadata": {},
   "outputs": [
    {
     "name": "stdout",
     "output_type": "stream",
     "text": [
      "3\n"
     ]
    }
   ],
   "source": [
    "# 6072\n",
    "while True:\n",
    "    n = int(input())\n",
    "    if n != 0:\n",
    "        print(n)\n",
    "    else:\n",
    "        break"
   ]
  },
  {
   "cell_type": "code",
   "execution_count": 3,
   "metadata": {},
   "outputs": [
    {
     "name": "stdout",
     "output_type": "stream",
     "text": [
      "5\n",
      "4\n",
      "3\n",
      "2\n",
      "1\n"
     ]
    }
   ],
   "source": [
    "# 6072\n",
    "n = int(input())\n",
    "\n",
    "while n != 0: \n",
    "    print(n)\n",
    "    n -= 1"
   ]
  },
  {
   "cell_type": "code",
   "execution_count": 5,
   "metadata": {},
   "outputs": [
    {
     "name": "stdout",
     "output_type": "stream",
     "text": [
      "4\n",
      "3\n",
      "2\n",
      "1\n",
      "0\n"
     ]
    }
   ],
   "source": [
    "# 6073\n",
    "n = int(input())\n",
    "\n",
    "while True:\n",
    "    n -= 1\n",
    "    if n >= 0:\n",
    "        print(n)\n",
    "    else:\n",
    "        break"
   ]
  },
  {
   "cell_type": "code",
   "execution_count": 7,
   "metadata": {},
   "outputs": [
    {
     "name": "stdout",
     "output_type": "stream",
     "text": [
      "a b c d e f g h i j k l m n o p q r "
     ]
    }
   ],
   "source": [
    "# 6074\n",
    "# 다시\n",
    "\n",
    "c = ord(input())\n",
    "a = ord('a')\n",
    "\n",
    "while a<=c:\n",
    "    print(chr(a), end=' ')\n",
    "    a += 1"
   ]
  },
  {
   "cell_type": "code",
   "execution_count": 8,
   "metadata": {},
   "outputs": [
    {
     "name": "stdout",
     "output_type": "stream",
     "text": [
      "0\n",
      "1\n",
      "2\n",
      "3\n",
      "4\n",
      "5\n",
      "6\n",
      "7\n",
      "8\n",
      "9\n",
      "10\n"
     ]
    }
   ],
   "source": [
    "# 6075\n",
    "\n",
    "n = int(input())\n",
    "s = 0\n",
    "while s <= n:\n",
    "    print(s)\n",
    "    s += 1"
   ]
  },
  {
   "cell_type": "code",
   "execution_count": 10,
   "metadata": {},
   "outputs": [
    {
     "name": "stdout",
     "output_type": "stream",
     "text": [
      "0\n",
      "1\n",
      "2\n",
      "3\n",
      "4\n"
     ]
    }
   ],
   "source": [
    "# 6076\n",
    "n = int(input())\n",
    "\n",
    "for i in range(n+1):\n",
    "    print(i)"
   ]
  },
  {
   "cell_type": "code",
   "execution_count": 16,
   "metadata": {},
   "outputs": [
    {
     "name": "stdout",
     "output_type": "stream",
     "text": [
      "12\n"
     ]
    }
   ],
   "source": [
    "# 6077\n",
    "\n",
    "n = int(input())\n",
    "# res = 0\n",
    "# for i in range(n+1):\n",
    "#     if i % 2 == 0:\n",
    "#         res += i\n",
    "        \n",
    "# print(res)\n",
    "\n",
    "ev = []\n",
    "\n",
    "for i in range(n+1):\n",
    "    if i % 2 == 0:\n",
    "        ev.append(i)\n",
    "        \n",
    "def summ(li: list):\n",
    "    res = 0\n",
    "    for i in range(len(li)):\n",
    "        res += li[i]\n",
    "    \n",
    "    return res\n",
    "\n",
    "res = summ(ev)\n",
    "\n",
    "print(res)"
   ]
  },
  {
   "cell_type": "code",
   "execution_count": 19,
   "metadata": {},
   "outputs": [
    {
     "name": "stdout",
     "output_type": "stream",
     "text": [
      "x\n",
      "b\n",
      "k\n",
      "d\n",
      "l\n",
      "q\n"
     ]
    }
   ],
   "source": [
    "# 6078\n",
    "\n",
    "while True:\n",
    "    st = input()\n",
    "    \n",
    "    if st == 'q':\n",
    "        print(st)\n",
    "        break\n",
    "    else:\n",
    "        print(st)"
   ]
  },
  {
   "cell_type": "code",
   "execution_count": 22,
   "metadata": {},
   "outputs": [
    {
     "name": "stdout",
     "output_type": "stream",
     "text": [
      "10\n"
     ]
    }
   ],
   "source": [
    "# 6079\n",
    "\n",
    "n = int(input())\n",
    "res = 0\n",
    "cnt = 0\n",
    "\n",
    "\n",
    "for i in range(1, n+1):\n",
    "    if res >= n:\n",
    "        break\n",
    "    else:\n",
    "        res += i\n",
    "        cnt += 1\n",
    "            \n",
    "print(cnt)\n",
    "            "
   ]
  },
  {
   "cell_type": "code",
   "execution_count": 23,
   "metadata": {},
   "outputs": [
    {
     "name": "stdout",
     "output_type": "stream",
     "text": [
      "1 1\n",
      "1 2\n",
      "1 3\n",
      "2 1\n",
      "2 2\n",
      "2 3\n"
     ]
    }
   ],
   "source": [
    "# 6080\n",
    "# solve to difference\n",
    "n,m = map(int, input().split())\n",
    "\n",
    "for i in range(1, n+1):\n",
    "    for j in range(1, m+1):\n",
    "        print(i,j)"
   ]
  },
  {
   "cell_type": "code",
   "execution_count": 3,
   "metadata": {},
   "outputs": [
    {
     "name": "stdout",
     "output_type": "stream",
     "text": [
      "B*1=B\n",
      "B*2=16\n",
      "B*3=21\n",
      "B*4=2C\n",
      "B*5=37\n",
      "B*6=42\n",
      "B*7=4D\n",
      "B*8=58\n",
      "B*9=63\n",
      "B*A=6E\n",
      "B*B=79\n",
      "B*C=84\n",
      "B*D=8F\n",
      "B*E=9A\n",
      "B*F=A5\n"
     ]
    }
   ],
   "source": [
    "# 6081\n",
    "hex_num = int(input(), 16)\n",
    "\n",
    "for i in range(1, 16):\n",
    "    print('%X'%hex_num, '*%X'%i, '=%X'%(hex_num*i),sep='')\n"
   ]
  },
  {
   "cell_type": "code",
   "execution_count": 32,
   "metadata": {},
   "outputs": [
    {
     "name": "stdout",
     "output_type": "stream",
     "text": [
      "1 2 X 4 5 X 7 8 X 10 11 12 X 14 15 X 17 18 X 20 21 22 X 24 25 X 27 28 X 30 31 32 X "
     ]
    }
   ],
   "source": [
    "# 6082\n",
    "# solve that if numer cases are like as 33, 333, 306 \n",
    "num = int(input())\n",
    "\n",
    "for i in range(1, num+1):\n",
    "    if i % 10 in [3,6,9]:\n",
    "        print('X', end=' ')\n",
    "    else:\n",
    "        print(i, end=' ')"
   ]
  },
  {
   "cell_type": "code",
   "execution_count": 33,
   "metadata": {},
   "outputs": [
    {
     "name": "stdout",
     "output_type": "stream",
     "text": [
      "0 0 0\n",
      "0 0 1\n",
      "0 1 0\n",
      "0 1 1\n",
      "1 0 0\n",
      "1 0 1\n",
      "1 1 0\n",
      "1 1 1\n",
      "8\n"
     ]
    }
   ],
   "source": [
    "# 6083\n",
    "r,g,b=map(int, input().split())\n",
    "cnt = 0\n",
    "for i in range(r):\n",
    "    for j in range(g):\n",
    "        for k in range(b):\n",
    "            print(i, j, k)\n",
    "            cnt += 1\n",
    "print(cnt)\n"
   ]
  },
  {
   "cell_type": "code",
   "execution_count": 15,
   "metadata": {},
   "outputs": [
    {
     "name": "stdout",
     "output_type": "stream",
     "text": [
      "1.7 MB\n"
     ]
    }
   ],
   "source": [
    "# 6084\n",
    "h, b, c, s = map(int, input().split())\n",
    "\n",
    "st = h*b*c*s\n",
    "unit = st/8/1024/1024\n",
    "\n",
    "print('%.1f'%unit, 'MB')\n"
   ]
  },
  {
   "cell_type": "code",
   "execution_count": 12,
   "metadata": {},
   "outputs": [
    {
     "name": "stdout",
     "output_type": "stream",
     "text": [
      "0.00 MB\n"
     ]
    }
   ],
   "source": [
    "# 6085 -> 출력 부분 다시\n",
    "w, h, b = map(int, input().split())\n",
    "\n",
    "st = w*h*b\n",
    "unit = st/8/1024/1024\n",
    "\n",
    "print('%.2f'%unit, 'MB')"
   ]
  },
  {
   "cell_type": "code",
   "execution_count": 16,
   "metadata": {},
   "outputs": [
    {
     "name": "stdout",
     "output_type": "stream",
     "text": [
      "66\n"
     ]
    }
   ],
   "source": [
    "# 6086\n",
    "\n",
    "n = int(input())\n",
    "p = 1\n",
    "res = 0\n",
    "while True:\n",
    "    res += p\n",
    "    p += 1\n",
    "    \n",
    "    if res >= n:\n",
    "        print(res)\n",
    "        break\n"
   ]
  },
  {
   "cell_type": "code",
   "execution_count": 17,
   "metadata": {},
   "outputs": [
    {
     "name": "stdout",
     "output_type": "stream",
     "text": [
      "1 2 4 5 7 8 10 "
     ]
    }
   ],
   "source": [
    "# 6087\n",
    "\n",
    "n = int(input())\n",
    "\n",
    "for i in range(1,n+1):\n",
    "    if i % 3 == 0:\n",
    "        continue # 이 문제는 pass됨 하지만, 아래 if 제외 명령이 더 있을 경우 continue 사용해야함\n",
    "    else: \n",
    "        print(i, end=' ')"
   ]
  },
  {
   "cell_type": "code",
   "execution_count": 21,
   "metadata": {},
   "outputs": [
    {
     "name": "stdout",
     "output_type": "stream",
     "text": [
      "13\n"
     ]
    }
   ],
   "source": [
    "# 6088\n",
    "a, d, n = map(int, input().split())\n",
    "\n",
    "for _ in range(n-1):\n",
    "    a += d\n",
    "\n",
    "print(a)\n",
    "\n",
    "\n"
   ]
  },
  {
   "cell_type": "code",
   "execution_count": 22,
   "metadata": {},
   "outputs": [
    {
     "name": "stdout",
     "output_type": "stream",
     "text": [
      "1458\n"
     ]
    }
   ],
   "source": [
    "# 6089\n",
    "# design using list comprehension\n",
    "\n",
    "a, r, n = map(int, input().split())\n",
    "\n",
    "for _ in range(n-1):\n",
    "    a *= r\n",
    "\n",
    "print(a)"
   ]
  },
  {
   "cell_type": "code",
   "execution_count": 23,
   "metadata": {},
   "outputs": [
    {
     "name": "stdout",
     "output_type": "stream",
     "text": [
      "-85\n"
     ]
    }
   ],
   "source": [
    "# 6090\n",
    "# also using list comprehension\n",
    "\n",
    "a, m, d, n = map(int, input().split())\n",
    "\n",
    "for _ in range(n-1):\n",
    "    a *= m\n",
    "    a += d\n",
    "\n",
    "print(a)"
   ]
  },
  {
   "cell_type": "code",
   "execution_count": 3,
   "metadata": {},
   "outputs": [
    {
     "name": "stdout",
     "output_type": "stream",
     "text": [
      "63\n"
     ]
    }
   ],
   "source": [
    "# 6091\n",
    "# reference: https://codingpractices.tistory.com/34\n",
    "\n",
    "a,b,c = map(int, input().split())\n",
    "\n",
    "for i in range(max(a,b,c), (a*b*c)+1):\n",
    "    if i%a==0 and i%b==0 and i%c==0:\n",
    "        print(i)\n",
    "        break\n",
    "\n",
    "\n"
   ]
  },
  {
   "cell_type": "code",
   "execution_count": 28,
   "metadata": {},
   "outputs": [
    {
     "name": "stdout",
     "output_type": "stream",
     "text": [
      "1 2 1 1 2 1 1 0 1 0 0 0 0 0 0 0 0 0 0 0 0 0 0 "
     ]
    }
   ],
   "source": [
    "# 6092\n",
    "# solve using sort\n",
    "# def sort(li: list):\n",
    "    \n",
    "\n",
    "n = int(input())\n",
    "call = list(map(int, input().split()))\n",
    "mem = [0]*23\n",
    "\n",
    "for i in range(n):\n",
    "    mem[call[i]-1] += 1\n",
    "    \n",
    "    \n",
    "for j in range(len(mem)):\n",
    "    print(mem[j], end=' ')\n"
   ]
  },
  {
   "cell_type": "code",
   "execution_count": 39,
   "metadata": {},
   "outputs": [
    {
     "name": "stdout",
     "output_type": "stream",
     "text": [
      "10 4 2 3 6 6 7 9 8 5 "
     ]
    }
   ],
   "source": [
    "# 6093\n",
    "# unefficient memory usage so solv using swap\n",
    "\n",
    "def rev(n: int, li: list):\n",
    "    res = [None]*len(li)\n",
    "    m_idx  = len(li)-1\n",
    "    for i in range(n):\n",
    "        # tmp = li[i]\n",
    "        # li[i] = li[m_idx-i]\n",
    "        # li[m_idx-i] = tmp\n",
    "        res[i] = li[m_idx-i]\n",
    "        res[m_idx-i] = li[i]\n",
    "    return res\n",
    "\n",
    "\n",
    "n = int(input())\n",
    "m_idx = n-1\n",
    "call = list(map(int, input().split()))\n",
    "\n",
    "res = rev(n, call)\n",
    "    \n",
    "for j in range(n):\n",
    "    print(res[j], end=' ')"
   ]
  },
  {
   "cell_type": "code",
   "execution_count": 16,
   "metadata": {},
   "outputs": [
    {
     "name": "stdout",
     "output_type": "stream",
     "text": [
      "2\n"
     ]
    }
   ],
   "source": [
    "# 6094\n",
    "# sort input by descending and return the first component\n",
    "\n",
    "def quick(li, cl: int, cr: int):\n",
    "    pl = cl\n",
    "    pr = cr\n",
    "    x = li[(cl+cr)//2]\n",
    "    \n",
    "    while pl <= pr:\n",
    "        while li[pl] < x: pl += 1\n",
    "        while li[pr] > x: pr -= 1\n",
    "        if pl <= pr:\n",
    "            li[pl], li[pr] = li[pr], li[pl]\n",
    "            pl += 1\n",
    "            pr -= 1\n",
    "            \n",
    "    if cl<pr: quick(li, cl, pr)\n",
    "    if cr>pl: quick(li, pl, cr)\n",
    "\n",
    "def sort(li): \n",
    "    quick(li, 0, len(li)-1) # given, left, right\n",
    "\n",
    "\n",
    "n = int(input())\n",
    "mem = list(map(int, input().split()))\n",
    "# print(type(mem[0]))\n",
    "\n",
    "sort(mem)\n",
    "\n",
    "print(mem[0])"
   ]
  },
  {
   "cell_type": "code",
   "execution_count": 8,
   "metadata": {},
   "outputs": [
    {
     "name": "stdout",
     "output_type": "stream",
     "text": [
      "1 0 0 0 0 0 0 0 0 0 0 0 0 0 0 0 0 0 0\n",
      "0 1 0 0 0 0 0 0 0 0 0 0 0 0 0 0 0 0 0\n",
      "0 0 1 0 0 0 0 0 0 0 0 0 0 0 0 0 0 0 0\n",
      "0 0 0 1 0 0 0 0 0 0 0 0 0 0 0 0 0 0 0\n",
      "0 0 0 0 1 0 0 0 0 0 0 0 0 0 0 0 0 0 0\n",
      "0 0 0 0 0 0 0 0 0 0 0 0 0 0 0 0 0 0 0\n",
      "0 0 0 0 0 0 0 0 0 0 0 0 0 0 0 0 0 0 0\n",
      "0 0 0 0 0 0 0 0 0 0 0 0 0 0 0 0 0 0 0\n",
      "0 0 0 0 0 0 0 0 0 0 0 0 0 0 0 0 0 0 0\n",
      "0 0 0 0 0 0 0 0 0 0 0 0 0 0 0 0 0 0 0\n",
      "0 0 0 0 0 0 0 0 0 0 0 0 0 0 0 0 0 0 0\n",
      "0 0 0 0 0 0 0 0 0 0 0 0 0 0 0 0 0 0 0\n",
      "0 0 0 0 0 0 0 0 0 0 0 0 0 0 0 0 0 0 0\n",
      "0 0 0 0 0 0 0 0 0 0 0 0 0 0 0 0 0 0 0\n",
      "0 0 0 0 0 0 0 0 0 0 0 0 0 0 0 0 0 0 0\n",
      "0 0 0 0 0 0 0 0 0 0 0 0 0 0 0 0 0 0 0\n",
      "0 0 0 0 0 0 0 0 0 0 0 0 0 0 0 0 0 0 0\n",
      "0 0 0 0 0 0 0 0 0 0 0 0 0 0 0 0 0 0 0\n",
      "0 0 0 0 0 0 0 0 0 0 0 0 0 0 0 0 0 0 0\n"
     ]
    }
   ],
   "source": [
    "# 6095\n",
    "\n",
    "table = [[0 for j in range(19)] for i in range(19)]\n",
    "num = int(input())\n",
    "\n",
    "marks = dict()\n",
    "for _ in range(num):\n",
    "    row, col = map(int, input().split())\n",
    "    if table[row-1][col-1] == 0:\n",
    "        table[row-1][col-1] = 1\n",
    "    else:\n",
    "        continue\n",
    "    \n",
    "for i in range(len(table)):\n",
    "    print(*table[i])"
   ]
  },
  {
   "cell_type": "code",
   "execution_count": 5,
   "metadata": {},
   "outputs": [],
   "source": [
    "# 6096 \n",
    "# 원소가 모두 0인 19x19 list 생성\n",
    "# 입력의 row와 생성한 row를 swap\n",
    "# 연산 횟수와 좌표 받아서 연산\n",
    "# 연산 process에 대해 이해할 필요 있음\n",
    "\n",
    "import sys\n",
    "\n",
    "sys.stdin=open('./test1.txt','r')\n",
    "\n",
    "# def change(table: list, row:int , col: int):\n",
    "#     for i in range(19):\n",
    "#         if table[row][col]==0 or 1:\n",
    "#             continue\n",
    "#         elif table[row][i]==0:\n",
    "#             table[row][i] = 1\n",
    "#         else:\n",
    "#             table[row][i] = 0\n",
    "#     for j in range(19):\n",
    "#         if table[row][col]==0 or 1:\n",
    "#             continue\n",
    "#         elif table[j][col]==0:\n",
    "#             table[j][col] = 1\n",
    "#         else:\n",
    "#             table[j][col] = 0\n",
    "#     return table\n",
    "\n",
    "# initialize table to 0\n",
    "table = [[0 for j in range(19)]for i in range(19)]\n",
    "\n",
    "for i in range(19):\n",
    "    table[i] = list(map(int, sys.stdin.readline().split()))\n",
    "    \n",
    "num = int(sys.stdin.readline())\n",
    "# reference: https://s0ng.tistory.com/entry/CodeUp-%EC%BD%94%EB%93%9C%EC%97%85-%EA%B8%B0%EC%B4%88-100%EC%A0%9C-6096%EB%B2%88-%ED%92%80%EC%9D%B4-%ED%8C%8C%EC%9D%B4%EC%8D%ACpython\n",
    "for i in range(num):\n",
    "    row, col = map(int, sys.stdin.readline().split())\n",
    "    \n",
    "    for j in range(19):\n",
    "        if table[row-1][j]==0:\n",
    "            table[row-1][j] = 1\n",
    "        else:\n",
    "            table[row-1][j] = 0\n",
    "            \n",
    "        if table[j][col-1]==0:\n",
    "            table[j][col-1] = 1\n",
    "        else:\n",
    "            table[j][col-1] = 0\n",
    "    \n",
    "for i in range(len(table)):\n",
    "    print(*table[i])"
   ]
  },
  {
   "cell_type": "code",
   "execution_count": 1,
   "metadata": {},
   "outputs": [
    {
     "name": "stdout",
     "output_type": "stream",
     "text": [
      "hello\n"
     ]
    }
   ],
   "source": [
    "# 6097 \n",
    "# 첫 줄에 격자판의 크기(h,w)\n",
    "# 둘째 줄에 반복 횟수(n)\n",
    "# 셋째 줄에 막대 길이(l)와 방향(d=0가로 or 1세로), 그리고 좌표(x,y)\n",
    "# 출력에 막대가 놓인 부분은 1 아닌 부분은 0으로\n",
    "\n",
    "import sys\n",
    "\n",
    "sys.stdin=open('./test1.txt','r')\n",
    "\n",
    "h,w = map(int, sys.stdin.readline().split())\n",
    "n = int(sys.stdin.readline())\n",
    "\n",
    "table = [[0 for j in range(w)] for i in range(h)] # 왜 지역변수를 따로 지정하면 되는거지? _는 안되고?\n",
    "\n",
    "for _ in range(n):\n",
    "    l, d, x, y = map(int, sys.stdin.readline().split())\n",
    "    if d == 0:\n",
    "        for i in range(l):\n",
    "            table[x-1][y-1+i] = 1 \n",
    "    else: \n",
    "        for j in range(l):\n",
    "            table[x-1+j][y-1] = 1\n",
    "\n",
    "\n",
    "for i in range(len(table)):\n",
    "    print(*table[i])"
   ]
  },
  {
   "cell_type": "code",
   "execution_count": 1,
   "metadata": {},
   "outputs": [
    {
     "name": "stdout",
     "output_type": "stream",
     "text": [
      "0 0 0 0 0\n",
      "0 0 0 0 0\n",
      "0 0 0 0 0\n",
      "0 0 0 0 0\n",
      "0 0 0 0 0\n",
      "0 0 0 0 0\n",
      "0 0 0 0 0\n"
     ]
    }
   ],
   "source": [
    "table_1  = [[0 for _ in range(5)] for _ in range(7)]\n",
    "\n",
    "for i in range(len(table_1)):\n",
    "    print(*table_1[i])"
   ]
  },
  {
   "cell_type": "code",
   "execution_count": null,
   "metadata": {},
   "outputs": [],
   "source": [
    "# 6098\n",
    "# 0 갈 수 있는 곳, 1 장애물, 2 먹이\n",
    "# 오른쪽 또는 아래쪽만 움직임 \n",
    "    # 오른쪽 [][y+1] 아래 [x+1][]\n",
    "# 맨 아래 가장 오른쪽에 도착한 경우, 더 이상 움직일 수 없는 경우, 먹이를 찾은 경우 종료\n",
    "#  (2,2)에서 출발\n",
    "# 개미의 이동 경로는 9\n",
    "# 입력 크기는 10 10\n",
    "\n",
    "import sys\n",
    "\n",
    "sys.stdin = open('./test1.txt', 'r')\n",
    "\n",
    "# table initialize to 0\n",
    "table = [[0 for j in range(10)]for i in range(10)]\n",
    "\n",
    "for i in range(10):\n",
    "    table[i] = list(map(int, sys.stdin.readline().split()))\n",
    "\n",
    "x, y = 1\n",
    "\n",
    "while True:\n",
    "    if table[x][y] == 0:\n",
    "        table[x][y] = 9\n",
    "    elif table[x][y] == 2: \n",
    "        table[x][y] = 9 \n",
    "        break\n",
    "    \n",
    "    if (table[x][y+1] == 1 and table[x+1][y]== 1) or (x==9 or y==9):\n",
    "        break\n",
    "    \n",
    "    if table[x][y+1] != 1:\n",
    "        y += 1\n",
    "    elif table[x+1][y+1] != 1:\n",
    "        x += 1\n",
    "\n",
    "for i in range(10):\n",
    "    print(*table[i])    \n",
    "\n",
    "\n"
   ]
  }
 ],
 "metadata": {
  "kernelspec": {
   "display_name": "Python 3",
   "language": "python",
   "name": "python3"
  },
  "language_info": {
   "codemirror_mode": {
    "name": "ipython",
    "version": 3
   },
   "file_extension": ".py",
   "mimetype": "text/x-python",
   "name": "python",
   "nbconvert_exporter": "python",
   "pygments_lexer": "ipython3",
   "version": "3.10.5 (tags/v3.10.5:f377153, Jun  6 2022, 16:14:13) [MSC v.1929 64 bit (AMD64)]"
  },
  "orig_nbformat": 4,
  "vscode": {
   "interpreter": {
    "hash": "879a25a323e83519e32c1bcdf6459ccfc2cf5321e10bc67073a59502e5f9cd53"
   }
  }
 },
 "nbformat": 4,
 "nbformat_minor": 2
}
