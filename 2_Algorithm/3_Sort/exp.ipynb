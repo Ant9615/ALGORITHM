{
 "cells": [
  {
   "cell_type": "code",
   "execution_count": 6,
   "metadata": {},
   "outputs": [
    {
     "name": "stdout",
     "output_type": "stream",
     "text": [
      "l_arr: 5 \n",
      " r_arr: 6\n"
     ]
    }
   ],
   "source": [
    "import math\n",
    "arr = [1,2,3,4,5,6,7,8,9,10,11]\n",
    "\n",
    "s_arr = len(arr)\n",
    "\n",
    "m_p = s_arr // 2  # for index(e.g., 7 half is 3.5)\n",
    "    \n",
    "l_arr = len(arr[:m_p])\n",
    "r_arr = len(arr[m_p:])\n",
    "\n",
    "print(f'l_arr: {l_arr} \\n r_arr: {r_arr}')"
   ]
  },
  {
   "cell_type": "code",
   "execution_count": 1,
   "metadata": {},
   "outputs": [
    {
     "name": "stdout",
     "output_type": "stream",
     "text": [
      "3\n"
     ]
    }
   ],
   "source": [
    "li = [1,2,3]\n",
    "\n",
    "print(li[-1])"
   ]
  },
  {
   "cell_type": "code",
   "execution_count": 2,
   "metadata": {},
   "outputs": [
    {
     "name": "stdout",
     "output_type": "stream",
     "text": [
      "4\n",
      "[1, 2, 3]\n"
     ]
    }
   ],
   "source": [
    "def pop(stack):\n",
    "        if len(stack) == 0:\n",
    "            print(-1)\n",
    "        \n",
    "        else:\n",
    "            end = stack[-1]\n",
    "            del stack[-1]\n",
    "            print(end)\n",
    "            return stack\n",
    "        \n",
    "stack = [1,2,3,4]\n",
    "\n",
    "print(pop(stack))"
   ]
  },
  {
   "cell_type": "code",
   "execution_count": 2,
   "metadata": {},
   "outputs": [],
   "source": [
    "import sys\n",
    "intp = sys.stdin.readline().split()\n",
    "\n",
    "ord = intp[0]\n",
    "num = intp[1]\n",
    "\n",
    "print(f'{ord} {num}')\n"
   ]
  },
  {
   "cell_type": "code",
   "execution_count": 1,
   "metadata": {},
   "outputs": [
    {
     "name": "stdout",
     "output_type": "stream",
     "text": [
      "[1]\n"
     ]
    }
   ],
   "source": [
    "deck = []\n",
    "\n",
    "deck.insert(0,1)\n",
    "print(deck)"
   ]
  },
  {
   "cell_type": "code",
   "execution_count": null,
   "metadata": {},
   "outputs": [],
   "source": []
  }
 ],
 "metadata": {
  "kernelspec": {
   "display_name": "Python 3.10.5 64-bit",
   "language": "python",
   "name": "python3"
  },
  "language_info": {
   "codemirror_mode": {
    "name": "ipython",
    "version": 3
   },
   "file_extension": ".py",
   "mimetype": "text/x-python",
   "name": "python",
   "nbconvert_exporter": "python",
   "pygments_lexer": "ipython3",
   "version": "3.10.5 (tags/v3.10.5:f377153, Jun  6 2022, 16:14:13) [MSC v.1929 64 bit (AMD64)]"
  },
  "orig_nbformat": 4,
  "vscode": {
   "interpreter": {
    "hash": "879a25a323e83519e32c1bcdf6459ccfc2cf5321e10bc67073a59502e5f9cd53"
   }
  }
 },
 "nbformat": 4,
 "nbformat_minor": 2
}
