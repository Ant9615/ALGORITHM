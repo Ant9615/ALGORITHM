{
 "cells": [
  {
   "cell_type": "code",
   "execution_count": 1,
   "metadata": {},
   "outputs": [
    {
     "name": "stdout",
     "output_type": "stream",
     "text": [
      "[None, None, None, None, None, None, None, None, None, None]\n"
     ]
    }
   ],
   "source": [
    "v_li = [None]*10\n",
    "print(v_li)"
   ]
  },
  {
   "cell_type": "code",
   "execution_count": 1,
   "metadata": {},
   "outputs": [
    {
     "ename": "",
     "evalue": "",
     "output_type": "error",
     "traceback": [
      "\u001b[1;31mCanceled future for execute_request message before replies were done"
     ]
    },
    {
     "ename": "",
     "evalue": "",
     "output_type": "error",
     "traceback": [
      "\u001b[1;31mThe Kernel crashed while executing code in the the current cell or a previous cell. Please review the code in the cell(s) to identify a possible cause of the failure. Click <a href='https://aka.ms/vscodeJupyterKernelCrash'>here</a> for more info. View Jupyter <a href='command:jupyter.viewOutput'>log</a> for further details."
     ]
    }
   ],
   "source": [
    "def quick_asc(li, cl: int, cr:int):\n",
    "    pl = cl\n",
    "    pr = cr\n",
    "    x = li[(cl+cr)//2]\n",
    "    \n",
    "    while pl >= pr:\n",
    "        while li[pl] > x: pl += 1\n",
    "        while li[pr] < x: pr -= 1\n",
    "        \n",
    "        if pl >= pr:\n",
    "            li[pl],li[pr] = li[pr], li[pl]\n",
    "            pl += 1\n",
    "            pr -= 1\n",
    "    \n",
    "    if cl<pr: quick_asc(li, cl, pr)\n",
    "    if cr>pl: quick_asc(li, pl, cr)\n",
    "    \n",
    "def sort(li):\n",
    "    quick_asc(li, 0, len(li)-1)\n",
    "    \n",
    "    \n",
    "li = [1, 5, 10, 50, 100, 500, 1000, 5000, 10000, 50000]\n",
    "sort(li)\n"
   ]
  }
 ],
 "metadata": {
  "kernelspec": {
   "display_name": "Python 3",
   "language": "python",
   "name": "python3"
  },
  "language_info": {
   "codemirror_mode": {
    "name": "ipython",
    "version": 3
   },
   "file_extension": ".py",
   "mimetype": "text/x-python",
   "name": "python",
   "nbconvert_exporter": "python",
   "pygments_lexer": "ipython3",
   "version": "3.10.5"
  },
  "orig_nbformat": 4,
  "vscode": {
   "interpreter": {
    "hash": "879a25a323e83519e32c1bcdf6459ccfc2cf5321e10bc67073a59502e5f9cd53"
   }
  }
 },
 "nbformat": 4,
 "nbformat_minor": 2
}
