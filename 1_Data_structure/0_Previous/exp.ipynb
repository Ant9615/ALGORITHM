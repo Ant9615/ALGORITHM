{
 "cells": [
  {
   "cell_type": "code",
   "execution_count": 1,
   "metadata": {},
   "outputs": [
    {
     "name": "stdout",
     "output_type": "stream",
     "text": [
      "[[], [], [], [], [], []]\n"
     ]
    }
   ],
   "source": [
    "n = 6\n",
    "\n",
    "li = [[] for _ in range(n)]\n",
    "\n",
    "print(li)"
   ]
  },
  {
   "cell_type": "code",
   "execution_count": 6,
   "metadata": {},
   "outputs": [
    {
     "name": "stdout",
     "output_type": "stream",
     "text": [
      "[[1], [2], [0, 1], [2], [5], [4]]\n"
     ]
    }
   ],
   "source": [
    "edges = [(0, 1), (1, 2), (2, 0), (2, 1), (3, 2), (4, 5), (5, 4)]\n",
    "\n",
    "for (src,dest) in edges: # src is present node and dest is adjacency node from src\n",
    "            # allocate src to dest from node of adjacency list\n",
    "        li[src].append(dest)\n",
    "print(li)"
   ]
  },
  {
   "cell_type": "code",
   "execution_count": 2,
   "metadata": {},
   "outputs": [
    {
     "name": "stdout",
     "output_type": "stream",
     "text": [
      "[None, None, None, None, None, None]\n",
      "[[], [], [], [], [], []]\n"
     ]
    }
   ],
   "source": [
    "li = [None] * 6\n",
    "print(li)\n",
    "\n",
    "n = 6\n",
    "for i in range(n):\n",
    "    li[i] = []\n",
    "    \n",
    "print(li)"
   ]
  },
  {
   "cell_type": "code",
   "execution_count": null,
   "metadata": {},
   "outputs": [],
   "source": [
    "# Bfs\n",
    "\n",
    "from queue import Queue\n",
    "\n",
    "\n",
    "class Graph:\n",
    "    def __init__(self, n_v): # n_v: number of vertices \n",
    "        self.adjlist = [[] for _ in range(n_v)]\n",
    "        self.visited = [False for _ in range(n_v)]\n",
    "    \n",
    "    def add_edges(self, u,v): \n",
    "        self.adjlist[u].append(v)\n",
    "        self.adjlist[v].append(u)\n",
    "        \n",
    "    def init_visited(self):\n",
    "        for i in range(len(self.visited)):\n",
    "            self.visited[i] = False\n",
    "    \n",
    "    def bfs(self,v):\n",
    "        q = Queue()\n",
    "        self.init_visited()\n",
    "        q.put(v)\n",
    "        self.visited[v] = True\n",
    "        \n",
    "        while not q.empty():\n",
    "            v = q.get()\n",
    "            print(v, end=' ')\n",
    "            \n",
    "            adj_v = self.adjlist[v]\n",
    "            for u in adj_v:\n",
    "                if not self.visited[u]:\n",
    "                    q.put(u)\n",
    "                    self.visited[u]=True\n",
    "        \n",
    "        \n",
    "    "
   ]
  },
  {
   "cell_type": "code",
   "execution_count": null,
   "metadata": {},
   "outputs": [],
   "source": [
    "# dfs\n",
    "\n",
    "class Graph: \n",
    "    def __init__(self, n_v):\n",
    "        self.adjlist = [[] for _ in range(n_v)]\n",
    "        self.visited = [False for _ in range(n_v)]\n",
    "        \n",
    "    def add_edges(self, u, v):\n",
    "        self.adjlist[u].append(v)\n",
    "        self.adjlist[v].append(u)\n",
    "        \n",
    "    def init_visited(self,v):\n",
    "        for i in range(len(self.visited)):\n",
    "            self.visited[i] = False\n",
    "    \n",
    "    # recursion\n",
    "    def dfs(self, v):\n",
    "        print(v, end=' ')\n",
    "        self.visited[v] = True\n",
    "        \n",
    "        adj_v = self.visited[v]\n",
    "        for u in adj_v:\n",
    "            if not self.visited[u]:\n",
    "                self.dfs(u)\n",
    "        "
   ]
  },
  {
   "cell_type": "code",
   "execution_count": 10,
   "metadata": {},
   "outputs": [],
   "source": [
    "class Node:\n",
    "    def __init__(self, data):\n",
    "        self.data = data\n",
    "        self.left = self.right = None\n",
    "        \n",
    "class BST:\n",
    "    def __init__(self):\n",
    "        self.root = None\n",
    "    \n",
    "    def insert(self, data):\n",
    "        self.root = self._insert_value(self.root, data)\n",
    "        return self.root is not None\n",
    "    \n",
    "    def _insert_value(self, node, data):\n",
    "        if node is None:\n",
    "            node = Node(data)\n",
    "        else:\n",
    "            if data <= node.data:\n",
    "                node.left = self._insert_value(node.left, data)\n",
    "            else: \n",
    "                node.right = self._insert_value(node.right, data)\n",
    "        return node\n",
    "    \n",
    "    def find(self, key):\n",
    "        return self._find_value(self.root, key)\n",
    "    \n",
    "    def _find_value(self, root, key):\n",
    "        if root is None or root.data == key:\n",
    "            return root is not None\n",
    "        elif key < root.data:\n",
    "            return self._find_value(root.left, key)\n",
    "        else: \n",
    "            return self._find_value(root.right, key)\n",
    "    \n",
    "    \n",
    "    def delete(self, key):\n",
    "        self.root, deleted = self._delete_value(self.root, key)\n",
    "        return deleted\n",
    "    \n",
    "    def _delete_value(self, node, key):\n",
    "        if node is None: \n",
    "            return node, False\n",
    "        \n",
    "        deleted = False\n",
    "        if key == node.data:\n",
    "            deleted = True\n",
    "    \n",
    "            if node.left and node.right: \n",
    "                pardent, child = node, node.right\n",
    "                while child.left is not None:\n",
    "                    parent, child = child, child.left\n",
    "                \n",
    "                child.left = node.left\n",
    "                \n",
    "                # parent가 이전에 참조되었다고 하는데 초기화 부분이 잘 못된 것인지 확인하기\n",
    "                if parent != node:\n",
    "                    parent.left = child.right\n",
    "                    child.right = node.right\n",
    "                \n",
    "                node=child\n",
    "                \n",
    "            elif node.left or node.right:\n",
    "                node = node.left or node.right\n",
    "            \n",
    "            else: \n",
    "                node = None\n",
    "                \n",
    "        elif key < node.data: \n",
    "            node.left, deleted = self._delete_value(node.left, key)\n",
    "        \n",
    "        else: \n",
    "            node.right, deleted = self._delete_value(node.right, key)    \n",
    "\n",
    "        return node, deleted\n",
    "        \n",
    "        "
   ]
  },
  {
   "cell_type": "code",
   "execution_count": 11,
   "metadata": {},
   "outputs": [
    {
     "name": "stdout",
     "output_type": "stream",
     "text": [
      "True\n",
      "False\n",
      "True\n"
     ]
    },
    {
     "ename": "UnboundLocalError",
     "evalue": "local variable 'parent' referenced before assignment",
     "output_type": "error",
     "traceback": [
      "\u001b[1;31m---------------------------------------------------------------------------\u001b[0m",
      "\u001b[1;31mUnboundLocalError\u001b[0m                         Traceback (most recent call last)",
      "\u001b[1;32mc:\\Users\\rudal\\OneDrive\\바탕 화면\\Work\\Algorithm\\1_DataStructure\\exp.ipynb Cell 7\u001b[0m in \u001b[0;36m<cell line: 13>\u001b[1;34m()\u001b[0m\n\u001b[0;32m     <a href='vscode-notebook-cell:/c%3A/Users/rudal/OneDrive/%EB%B0%94%ED%83%95%20%ED%99%94%EB%A9%B4/Work/Algorithm/1_DataStructure/exp.ipynb#W6sZmlsZQ%3D%3D?line=10'>11</a>\u001b[0m \u001b[39m# Delete\u001b[39;00m\n\u001b[0;32m     <a href='vscode-notebook-cell:/c%3A/Users/rudal/OneDrive/%EB%B0%94%ED%83%95%20%ED%99%94%EB%A9%B4/Work/Algorithm/1_DataStructure/exp.ipynb#W6sZmlsZQ%3D%3D?line=11'>12</a>\u001b[0m \u001b[39mprint\u001b[39m(bst\u001b[39m.\u001b[39mdelete(\u001b[39m55\u001b[39m)) \u001b[39m# True\u001b[39;00m\n\u001b[1;32m---> <a href='vscode-notebook-cell:/c%3A/Users/rudal/OneDrive/%EB%B0%94%ED%83%95%20%ED%99%94%EB%A9%B4/Work/Algorithm/1_DataStructure/exp.ipynb#W6sZmlsZQ%3D%3D?line=12'>13</a>\u001b[0m \u001b[39mprint\u001b[39m(bst\u001b[39m.\u001b[39;49mdelete(\u001b[39m14\u001b[39;49m)) \u001b[39m# True\u001b[39;00m\n\u001b[0;32m     <a href='vscode-notebook-cell:/c%3A/Users/rudal/OneDrive/%EB%B0%94%ED%83%95%20%ED%99%94%EB%A9%B4/Work/Algorithm/1_DataStructure/exp.ipynb#W6sZmlsZQ%3D%3D?line=13'>14</a>\u001b[0m \u001b[39mprint\u001b[39m(bst\u001b[39m.\u001b[39mdelete(\u001b[39m11\u001b[39m))\n",
      "\u001b[1;32mc:\\Users\\rudal\\OneDrive\\바탕 화면\\Work\\Algorithm\\1_DataStructure\\exp.ipynb Cell 7\u001b[0m in \u001b[0;36mBST.delete\u001b[1;34m(self, key)\u001b[0m\n\u001b[0;32m     <a href='vscode-notebook-cell:/c%3A/Users/rudal/OneDrive/%EB%B0%94%ED%83%95%20%ED%99%94%EB%A9%B4/Work/Algorithm/1_DataStructure/exp.ipynb#W6sZmlsZQ%3D%3D?line=35'>36</a>\u001b[0m \u001b[39mdef\u001b[39;00m \u001b[39mdelete\u001b[39m(\u001b[39mself\u001b[39m, key):\n\u001b[1;32m---> <a href='vscode-notebook-cell:/c%3A/Users/rudal/OneDrive/%EB%B0%94%ED%83%95%20%ED%99%94%EB%A9%B4/Work/Algorithm/1_DataStructure/exp.ipynb#W6sZmlsZQ%3D%3D?line=36'>37</a>\u001b[0m     \u001b[39mself\u001b[39m\u001b[39m.\u001b[39mroot, deleted \u001b[39m=\u001b[39m \u001b[39mself\u001b[39;49m\u001b[39m.\u001b[39;49m_delete_value(\u001b[39mself\u001b[39;49m\u001b[39m.\u001b[39;49mroot, key)\n\u001b[0;32m     <a href='vscode-notebook-cell:/c%3A/Users/rudal/OneDrive/%EB%B0%94%ED%83%95%20%ED%99%94%EB%A9%B4/Work/Algorithm/1_DataStructure/exp.ipynb#W6sZmlsZQ%3D%3D?line=37'>38</a>\u001b[0m     \u001b[39mreturn\u001b[39;00m deleted\n",
      "\u001b[1;32mc:\\Users\\rudal\\OneDrive\\바탕 화면\\Work\\Algorithm\\1_DataStructure\\exp.ipynb Cell 7\u001b[0m in \u001b[0;36mBST._delete_value\u001b[1;34m(self, node, key)\u001b[0m\n\u001b[0;32m     <a href='vscode-notebook-cell:/c%3A/Users/rudal/OneDrive/%EB%B0%94%ED%83%95%20%ED%99%94%EB%A9%B4/Work/Algorithm/1_DataStructure/exp.ipynb#W6sZmlsZQ%3D%3D?line=64'>65</a>\u001b[0m         node \u001b[39m=\u001b[39m \u001b[39mNone\u001b[39;00m\n\u001b[0;32m     <a href='vscode-notebook-cell:/c%3A/Users/rudal/OneDrive/%EB%B0%94%ED%83%95%20%ED%99%94%EB%A9%B4/Work/Algorithm/1_DataStructure/exp.ipynb#W6sZmlsZQ%3D%3D?line=66'>67</a>\u001b[0m \u001b[39melif\u001b[39;00m key \u001b[39m<\u001b[39m node\u001b[39m.\u001b[39mdata: \n\u001b[1;32m---> <a href='vscode-notebook-cell:/c%3A/Users/rudal/OneDrive/%EB%B0%94%ED%83%95%20%ED%99%94%EB%A9%B4/Work/Algorithm/1_DataStructure/exp.ipynb#W6sZmlsZQ%3D%3D?line=67'>68</a>\u001b[0m     node\u001b[39m.\u001b[39mleft, deleted \u001b[39m=\u001b[39m \u001b[39mself\u001b[39;49m\u001b[39m.\u001b[39;49m_delete_value(node\u001b[39m.\u001b[39;49mleft, key)\n\u001b[0;32m     <a href='vscode-notebook-cell:/c%3A/Users/rudal/OneDrive/%EB%B0%94%ED%83%95%20%ED%99%94%EB%A9%B4/Work/Algorithm/1_DataStructure/exp.ipynb#W6sZmlsZQ%3D%3D?line=69'>70</a>\u001b[0m \u001b[39melse\u001b[39;00m: \n\u001b[0;32m     <a href='vscode-notebook-cell:/c%3A/Users/rudal/OneDrive/%EB%B0%94%ED%83%95%20%ED%99%94%EB%A9%B4/Work/Algorithm/1_DataStructure/exp.ipynb#W6sZmlsZQ%3D%3D?line=70'>71</a>\u001b[0m     node\u001b[39m.\u001b[39mright, deleted \u001b[39m=\u001b[39m \u001b[39mself\u001b[39m\u001b[39m.\u001b[39m_delete_value(node\u001b[39m.\u001b[39mright, key)    \n",
      "\u001b[1;32mc:\\Users\\rudal\\OneDrive\\바탕 화면\\Work\\Algorithm\\1_DataStructure\\exp.ipynb Cell 7\u001b[0m in \u001b[0;36mBST._delete_value\u001b[1;34m(self, node, key)\u001b[0m\n\u001b[0;32m     <a href='vscode-notebook-cell:/c%3A/Users/rudal/OneDrive/%EB%B0%94%ED%83%95%20%ED%99%94%EB%A9%B4/Work/Algorithm/1_DataStructure/exp.ipynb#W6sZmlsZQ%3D%3D?line=67'>68</a>\u001b[0m     node\u001b[39m.\u001b[39mleft, deleted \u001b[39m=\u001b[39m \u001b[39mself\u001b[39m\u001b[39m.\u001b[39m_delete_value(node\u001b[39m.\u001b[39mleft, key)\n\u001b[0;32m     <a href='vscode-notebook-cell:/c%3A/Users/rudal/OneDrive/%EB%B0%94%ED%83%95%20%ED%99%94%EB%A9%B4/Work/Algorithm/1_DataStructure/exp.ipynb#W6sZmlsZQ%3D%3D?line=69'>70</a>\u001b[0m \u001b[39melse\u001b[39;00m: \n\u001b[1;32m---> <a href='vscode-notebook-cell:/c%3A/Users/rudal/OneDrive/%EB%B0%94%ED%83%95%20%ED%99%94%EB%A9%B4/Work/Algorithm/1_DataStructure/exp.ipynb#W6sZmlsZQ%3D%3D?line=70'>71</a>\u001b[0m     node\u001b[39m.\u001b[39mright, deleted \u001b[39m=\u001b[39m \u001b[39mself\u001b[39;49m\u001b[39m.\u001b[39;49m_delete_value(node\u001b[39m.\u001b[39;49mright, key)    \n\u001b[0;32m     <a href='vscode-notebook-cell:/c%3A/Users/rudal/OneDrive/%EB%B0%94%ED%83%95%20%ED%99%94%EB%A9%B4/Work/Algorithm/1_DataStructure/exp.ipynb#W6sZmlsZQ%3D%3D?line=72'>73</a>\u001b[0m \u001b[39mreturn\u001b[39;00m node, deleted\n",
      "\u001b[1;32mc:\\Users\\rudal\\OneDrive\\바탕 화면\\Work\\Algorithm\\1_DataStructure\\exp.ipynb Cell 7\u001b[0m in \u001b[0;36mBST._delete_value\u001b[1;34m(self, node, key)\u001b[0m\n\u001b[0;32m     <a href='vscode-notebook-cell:/c%3A/Users/rudal/OneDrive/%EB%B0%94%ED%83%95%20%ED%99%94%EB%A9%B4/Work/Algorithm/1_DataStructure/exp.ipynb#W6sZmlsZQ%3D%3D?line=64'>65</a>\u001b[0m         node \u001b[39m=\u001b[39m \u001b[39mNone\u001b[39;00m\n\u001b[0;32m     <a href='vscode-notebook-cell:/c%3A/Users/rudal/OneDrive/%EB%B0%94%ED%83%95%20%ED%99%94%EB%A9%B4/Work/Algorithm/1_DataStructure/exp.ipynb#W6sZmlsZQ%3D%3D?line=66'>67</a>\u001b[0m \u001b[39melif\u001b[39;00m key \u001b[39m<\u001b[39m node\u001b[39m.\u001b[39mdata: \n\u001b[1;32m---> <a href='vscode-notebook-cell:/c%3A/Users/rudal/OneDrive/%EB%B0%94%ED%83%95%20%ED%99%94%EB%A9%B4/Work/Algorithm/1_DataStructure/exp.ipynb#W6sZmlsZQ%3D%3D?line=67'>68</a>\u001b[0m     node\u001b[39m.\u001b[39mleft, deleted \u001b[39m=\u001b[39m \u001b[39mself\u001b[39;49m\u001b[39m.\u001b[39;49m_delete_value(node\u001b[39m.\u001b[39;49mleft, key)\n\u001b[0;32m     <a href='vscode-notebook-cell:/c%3A/Users/rudal/OneDrive/%EB%B0%94%ED%83%95%20%ED%99%94%EB%A9%B4/Work/Algorithm/1_DataStructure/exp.ipynb#W6sZmlsZQ%3D%3D?line=69'>70</a>\u001b[0m \u001b[39melse\u001b[39;00m: \n\u001b[0;32m     <a href='vscode-notebook-cell:/c%3A/Users/rudal/OneDrive/%EB%B0%94%ED%83%95%20%ED%99%94%EB%A9%B4/Work/Algorithm/1_DataStructure/exp.ipynb#W6sZmlsZQ%3D%3D?line=70'>71</a>\u001b[0m     node\u001b[39m.\u001b[39mright, deleted \u001b[39m=\u001b[39m \u001b[39mself\u001b[39m\u001b[39m.\u001b[39m_delete_value(node\u001b[39m.\u001b[39mright, key)    \n",
      "\u001b[1;32mc:\\Users\\rudal\\OneDrive\\바탕 화면\\Work\\Algorithm\\1_DataStructure\\exp.ipynb Cell 7\u001b[0m in \u001b[0;36mBST._delete_value\u001b[1;34m(self, node, key)\u001b[0m\n\u001b[0;32m     <a href='vscode-notebook-cell:/c%3A/Users/rudal/OneDrive/%EB%B0%94%ED%83%95%20%ED%99%94%EB%A9%B4/Work/Algorithm/1_DataStructure/exp.ipynb#W6sZmlsZQ%3D%3D?line=50'>51</a>\u001b[0m     parent, child \u001b[39m=\u001b[39m child, child\u001b[39m.\u001b[39mleft\n\u001b[0;32m     <a href='vscode-notebook-cell:/c%3A/Users/rudal/OneDrive/%EB%B0%94%ED%83%95%20%ED%99%94%EB%A9%B4/Work/Algorithm/1_DataStructure/exp.ipynb#W6sZmlsZQ%3D%3D?line=52'>53</a>\u001b[0m child\u001b[39m.\u001b[39mleft \u001b[39m=\u001b[39m node\u001b[39m.\u001b[39mleft\n\u001b[1;32m---> <a href='vscode-notebook-cell:/c%3A/Users/rudal/OneDrive/%EB%B0%94%ED%83%95%20%ED%99%94%EB%A9%B4/Work/Algorithm/1_DataStructure/exp.ipynb#W6sZmlsZQ%3D%3D?line=54'>55</a>\u001b[0m \u001b[39mif\u001b[39;00m parent \u001b[39m!=\u001b[39m node:\n\u001b[0;32m     <a href='vscode-notebook-cell:/c%3A/Users/rudal/OneDrive/%EB%B0%94%ED%83%95%20%ED%99%94%EB%A9%B4/Work/Algorithm/1_DataStructure/exp.ipynb#W6sZmlsZQ%3D%3D?line=55'>56</a>\u001b[0m     parent\u001b[39m.\u001b[39mleft \u001b[39m=\u001b[39m child\u001b[39m.\u001b[39mright\n\u001b[0;32m     <a href='vscode-notebook-cell:/c%3A/Users/rudal/OneDrive/%EB%B0%94%ED%83%95%20%ED%99%94%EB%A9%B4/Work/Algorithm/1_DataStructure/exp.ipynb#W6sZmlsZQ%3D%3D?line=56'>57</a>\u001b[0m     child\u001b[39m.\u001b[39mright \u001b[39m=\u001b[39m node\u001b[39m.\u001b[39mright\n",
      "\u001b[1;31mUnboundLocalError\u001b[0m: local variable 'parent' referenced before assignment"
     ]
    }
   ],
   "source": [
    "array = [40, 4, 34, 45, 14, 55, 48, 13, 15, 49, 47]\n",
    "\n",
    "bst = BST()\n",
    "for x in array:\n",
    "    bst.insert(x)\n",
    "\n",
    "# Find\n",
    "print(bst.find(15)) # True\n",
    "print(bst.find(17)) # False\n",
    "\n",
    "# Delete\n",
    "print(bst.delete(55)) # True\n",
    "print(bst.delete(14)) # True\n",
    "print(bst.delete(11)) # False"
   ]
  }
 ],
 "metadata": {
  "kernelspec": {
   "display_name": "Python 3.10.5 64-bit",
   "language": "python",
   "name": "python3"
  },
  "language_info": {
   "codemirror_mode": {
    "name": "ipython",
    "version": 3
   },
   "file_extension": ".py",
   "mimetype": "text/x-python",
   "name": "python",
   "nbconvert_exporter": "python",
   "pygments_lexer": "ipython3",
   "version": "3.10.5"
  },
  "orig_nbformat": 4,
  "vscode": {
   "interpreter": {
    "hash": "879a25a323e83519e32c1bcdf6459ccfc2cf5321e10bc67073a59502e5f9cd53"
   }
  }
 },
 "nbformat": 4,
 "nbformat_minor": 2
}
