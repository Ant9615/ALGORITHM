{
 "cells": [
  {
   "cell_type": "markdown",
   "metadata": {},
   "source": [
    "# 1. Shell Sort\n",
    "+ straight insertion sort을 살리면서 단점을 보완한 알고리즘\n",
    "\n",
    "__Process__\n",
    "+ 정렬할 array의 component 를 group으로 나눠 각 group별로 sorting을 수행함\n",
    "+ 그 후 정렬된 group을 합치는 작업을 반복하여 component의 이동횟수를 줄이는 방법\n",
    "\n"
   ]
  },
  {
   "cell_type": "code",
   "execution_count": 2,
   "metadata": {},
   "outputs": [
    {
     "name": "stdout",
     "output_type": "stream",
     "text": [
      "try the shell sort\n",
      "fir J: 4\n",
      "sec J: -4\n",
      "fir J: 5\n",
      "fir J: 6\n",
      "sec J: -2\n",
      "fir J: 7\n",
      "fir J: 2\n",
      "sec J: -2\n",
      "fir J: 3\n",
      "fir J: 4\n",
      "fir J: 5\n",
      "fir J: 6\n",
      "sec J: 2\n",
      "sec J: 0\n",
      "fir J: 7\n",
      "sec J: 3\n",
      "fir J: 1\n",
      "sec J: -1\n",
      "fir J: 2\n",
      "fir J: 3\n",
      "sec J: 1\n",
      "sec J: 0\n",
      "fir J: 4\n",
      "fir J: 5\n",
      "sec J: 3\n",
      "fir J: 6\n",
      "fir J: 7\n",
      "sec J: 5\n",
      "sec J: 4\n",
      "------------sorted------------\n",
      "[1, 2, 3, 4, 5, 6, 7, 8]\n"
     ]
    }
   ],
   "source": [
    "from typing import MutableSequence\n",
    "\n",
    "# important ----------------------------------------------------------------\n",
    "def shell_sort(a: MutableSequence) -> None:\n",
    "    n=len(a)\n",
    "    h=n//2\n",
    "    while h>0:\n",
    "    # similar to straight insertion sort\n",
    "        # print(h)\n",
    "        for i in range(h,n):\n",
    "            j = i-h\n",
    "            print(f'fir J: {i}')\n",
    "            tmp = a[i]\n",
    "            while j>=0 and a[j] > tmp:\n",
    "                a[j+h] = a[j]\n",
    "                j -= h\n",
    "                print(f'sec J: {j}')\n",
    "            a[j+h] = tmp\n",
    "        h //= 2    \n",
    "# ----------------------------------------------------------------\n",
    "\n",
    "if __name__ == '__main__':\n",
    "    print('try the shell sort')\n",
    "    num = int(input('put numnber of components: '))\n",
    "    x = [None]*num\n",
    "    \n",
    "    for i in range(num):\n",
    "        x[i] = int(input(f'x[{i}]: '))\n",
    "        \n",
    "    shell_sort(x)\n",
    "    \n",
    "    print('------------sorted------------')\n",
    "    # for i in range(num):\n",
    "    #     print(f'x[{i}]: {x[i]}')\n",
    "    \n",
    "    print(x)"
   ]
  },
  {
   "cell_type": "code",
   "execution_count": null,
   "metadata": {},
   "outputs": [],
   "source": [
    "# select the h value\n",
    "# h 값을 배수로 두게되면 정렬한 전 단계에서 합칠 때 제대로 합쳐지지 않을 수 있음\n",
    "# h값이 서로 배수가 되지 않도록 해야하며 h = ... 121 40 13 4 1의 수열을 사용하면 효율적으로 정렬할 수 있음\n",
    "# 배열의 원소의 수를 9로 나누었을 때 그 몫을 넘지 않도록 정해야 이를 보완할 수 있음 \n",
    "\n",
    "from typing import MutableSequence\n",
    "# ----------------------------------------------------------------\n",
    "def shell_sort(a: MutableSequence) -> None:\n",
    "    # using seriese h*3+1\n",
    "    n=len(a)\n",
    "    h=1\n",
    "    while h<n//9:\n",
    "        h = h*3+1\n",
    "        \n",
    "    while h>0:\n",
    "        for i in range(h, n):\n",
    "            j = i-h\n",
    "            tmp = a[i]\n",
    "            while j>=0 and a[j] > tmp:\n",
    "                a[j+h] = a[j]\n",
    "                j -= h\n",
    "            a[j+h]=tmp\n",
    "        h //= 3\n",
    "# ----------------------------------------------------------------\n",
    "        \n",
    "if __name__ == '__main__':\n",
    "    print('try the shell sort')\n",
    "    num = int(input('put numnber of components: '))\n",
    "    x = [None]*num\n",
    "    \n",
    "    for i in range(num):\n",
    "        x[i] = int(input(f'x[{i}]: '))\n",
    "        \n",
    "    shell_sort(x)\n",
    "    \n",
    "    print('------------sorted------------')\n",
    "    # for i in range(num):\n",
    "    #     print(f'x[{i}]: {x[i]}')\n",
    "    \n",
    "    print(x)"
   ]
  }
 ],
 "metadata": {
  "kernelspec": {
   "display_name": "Python 3.10.5 64-bit",
   "language": "python",
   "name": "python3"
  },
  "language_info": {
   "codemirror_mode": {
    "name": "ipython",
    "version": 3
   },
   "file_extension": ".py",
   "mimetype": "text/x-python",
   "name": "python",
   "nbconvert_exporter": "python",
   "pygments_lexer": "ipython3",
   "version": "3.10.5"
  },
  "orig_nbformat": 4,
  "vscode": {
   "interpreter": {
    "hash": "879a25a323e83519e32c1bcdf6459ccfc2cf5321e10bc67073a59502e5f9cd53"
   }
  }
 },
 "nbformat": 4,
 "nbformat_minor": 2
}
