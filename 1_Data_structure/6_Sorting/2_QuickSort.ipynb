{
 "cells": [
  {
   "cell_type": "markdown",
   "metadata": {},
   "source": [
    "# 2. Quick Sort\n",
    "+ shell과 달리 group을 나누는 criteria인 pivot 등장\n",
    "+ x: pivot pl: left cursor pr: right cursor\n",
    "    + a[pl] >= x가 성립하는 원소를 찾을 때까지 pl을 오른쪽 방향으로 scan\n",
    "    + a[pr] <= x가 성립하는 원소를 찾을 때까지 pr을 왼쪽 방향으로 scan \n",
    "    + pl은 pivot의 이상인 component 위치, pr은 pivot의 이하인 component 위치에서 멈추고 해당 값을 swap\n",
    "    + pivot 이하인 값은 왼쪽으로 이동하고 pivot 이상인 값을 오른쪽으로 이동\n",
    "        + pivot이 이하인 group: a[0], ...., a[pl-1]\n",
    "        + pivot이 이상인 group: a[pr+1], ..., a[n-1]\n",
    "        + group을 나누는 작업이 끝난 후\n",
    "            + pl>pr+1일 때, pivot과 일치하는 group: a[pr+1],...a[pl-1]\n",
    "\n",
    "+ pivot에 따라 성능이 달라짐"
   ]
  },
  {
   "cell_type": "code",
   "execution_count": 1,
   "metadata": {},
   "outputs": [
    {
     "name": "stdout",
     "output_type": "stream",
     "text": [
      "divide the array to groups\n",
      "the pivot is 5\n",
      "this group is under the pivot\n",
      "1 3 2 4 5\n",
      "this group is corresponding to the pivot\n",
      "5\n",
      "this group is over the pivot\n",
      "5 7 6 8 9\n"
     ]
    }
   ],
   "source": [
    "from typing import MutableSequence\n",
    "\n",
    "def partition(a: MutableSequence) -> None:\n",
    "    # print array by divided\n",
    "    n = len(a)\n",
    "    pl = 0\n",
    "    pr = n-1\n",
    "    x = a[n//2] # pivot\n",
    "    \n",
    "    while pl <= pr: \n",
    "        while a[pl] < x: pl += 1\n",
    "        while a[pr] > x: pr -= 1\n",
    "        if pl <= pr:\n",
    "            a[pl],a[pr] = a[pr], a[pl]\n",
    "            pl += 1 \n",
    "            pr -= 1\n",
    "    \n",
    "    print(f'the pivot is {x}')\n",
    "    print('this group is under the pivot')\n",
    "    print(*a[0:pl])\n",
    "    \n",
    "    if pl > pr+1:\n",
    "        print('this group is corresponding to the pivot')\n",
    "        print(*a[pr+1:pl])\n",
    "    \n",
    "    print('this group is over the pivot')\n",
    "    print(*a[pr+1:n])\n",
    "    \n",
    "if __name__ == '__main__':\n",
    "    print('divide the array to groups')\n",
    "    num = int(input('put your number of componentsL: '))\n",
    "    x = [None]*num\n",
    "    \n",
    "    for i in range(num):\n",
    "        x[i] = int(input(f'x[{i}]: '))\n",
    "    \n",
    "    partition(x)"
   ]
  },
  {
   "cell_type": "code",
   "execution_count": null,
   "metadata": {},
   "outputs": [],
   "source": [
    "# Quick sort\n",
    "def qsort(a: MutableSequence, left: int, right: int) -> None:\n",
    "    # quick sort by a[left] ~ a[right]\n",
    "    pl = left # left cursor\n",
    "    pr = right  # right cursor\n",
    "    x = a[(left + right)//2] # pivot (center in array)\n",
    "    \n",
    "    print(f'a[{left}]~a[{right}]: ', *a[left:right+1])\n",
    "    # ----------------------------------------\n",
    "    while pl <= pr:\n",
    "        while a[pl] < x: pl += 1 \n",
    "        while a[pr] > x: pr -= 1\n",
    "        if pl <= pr:\n",
    "            a[pl],a[pr] = a[pr], a[pl]\n",
    "            pl += 1\n",
    "            pr -= 1\n",
    "    \n",
    "    if left < pr: qsort(a, left, pr)\n",
    "    if right > pl: qsort(a, pl, right)\n",
    "    # ---------------------------------------- \n",
    "def quick_sort(a: MutableSequence) -> None:\n",
    "    # quick sort\n",
    "    qsort(a,0,len(a)-1)\n",
    "\n",
    "if __name__ == \"__main__\":\n",
    "    print('try the qucik sort')\n",
    "    num = int(input('put your number of components: '))\n",
    "    x = [None]*num\n",
    "    \n",
    "    for i in range(num):\n",
    "        x[i] = int(input(f'x[{i}]: '))\n",
    "        \n",
    "    quick_sort(x)\n",
    "    \n",
    "    print('---sorted---')\n",
    "    for i in range(num):\n",
    "        print(f'x[{i}]={x[i]}')"
   ]
  }
 ],
 "metadata": {
  "kernelspec": {
   "display_name": "Python 3.10.5 64-bit",
   "language": "python",
   "name": "python3"
  },
  "language_info": {
   "codemirror_mode": {
    "name": "ipython",
    "version": 3
   },
   "file_extension": ".py",
   "mimetype": "text/x-python",
   "name": "python",
   "nbconvert_exporter": "python",
   "pygments_lexer": "ipython3",
   "version": "3.10.5"
  },
  "orig_nbformat": 4,
  "vscode": {
   "interpreter": {
    "hash": "879a25a323e83519e32c1bcdf6459ccfc2cf5321e10bc67073a59502e5f9cd53"
   }
  }
 },
 "nbformat": 4,
 "nbformat_minor": 2
}
