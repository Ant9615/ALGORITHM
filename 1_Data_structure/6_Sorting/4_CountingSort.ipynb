{
 "cells": [
  {
   "cell_type": "markdown",
   "metadata": {},
   "source": [
    "# 4. Counting Sort\n",
    "+ component의 대소 관계를 판단하지 않고 빠르게 정렬하는 algorithm\n",
    "\n",
    "__Steps__\n",
    "1. 도수분포표 만들기\n",
    "    + 학생 9명의 점수가 기록된 배열(a)이 주어진다면 11(0~10점) 크기의 0으로 초기화 된 배열(f)을 생성\n",
    "    + 만약, 'a[0]'이 9이면, 'f[a[0]]'(=f[9])의 원소를 1증가 시킴\n",
    "    + 이를 반복하여 도수분포표 생성    \n",
    "2. 누적 분포표 만들기\n",
    "    + 0점부터 n점까지 학생이 몇 명있는지 누적된 값을 나타내는 누적 도수 분포표를 만듦\n",
    "    + 'f[4]'=6은 0~4점을 받은 학생의 누계가 6명\n",
    "3. 작업용 배열(buffer) 생성\n",
    "    + 배열 a의 각 component value와 누적 도수 분포표 f를 대조하여 정렬을 완료한 배열을 만듦\n",
    "    + 이때 buffer는 a와 크기가 같아야 함\\\n",
    "    -> 이 부분은 이해가 덜 되어서 다시 볼 필요가 있음\n",
    "4. 배열 복사하기\n",
    "    + 이전까지 저장된 배열은 buffer임\n",
    "    + for-loop를 이용하여 buffer의 모든 component를 a에 그대로 복사"
   ]
  },
  {
   "cell_type": "code",
   "execution_count": 4,
   "metadata": {},
   "outputs": [
    {
     "name": "stdout",
     "output_type": "stream",
     "text": [
      "---------------sorted---------------\n",
      "x[0]=1\n",
      "x[1]=12\n",
      "x[2]=34\n",
      "x[3]=35\n",
      "x[4]=45\n",
      "x[5]=62\n",
      "x[6]=89\n",
      "the size of array is 7\n"
     ]
    }
   ],
   "source": [
    "from typing import MutableSequence\n",
    "\n",
    "# -----------------sorting algorithm-----------------\n",
    "def fsort(a: MutableSequence, max: int)->None:\n",
    "    # counting sort(component is over 0 to under max)\n",
    "    n = len(a) # the size of given array a\n",
    "    f = [0] * (max+1) # array for cumulative frequecy table\n",
    "    b = [0] * n # buffer\n",
    "    \n",
    "    for i in range(n): f[a[i]] += 1 # step 1\n",
    "    for i in range(1, max+1): f[i] += f[i-1] # step 2\n",
    "    for i in range(n-1, -1, -1): f[a[i]] -= 1; b[f[a[i]]] = a[i] # step 3\n",
    "    for i in range(n): a[i] = b[i] # step 4\n",
    "# ---------------------------------------------------\n",
    "\n",
    "def counting_sort(a: MutableSequence) -> None:\n",
    "    fsort(a, max(a))\n",
    "    \n",
    "if __name__ == \"__main__\":\n",
    "    num = int(input('put your number of components: '))\n",
    "    x = [None]*num\n",
    "    \n",
    "    for i in range(num):\n",
    "        while True:\n",
    "            x[i] = int(input(f'x[{i}]: '))\n",
    "            if x[i] >= 0: break\n",
    "            \n",
    "    counting_sort(x)\n",
    "    \n",
    "    print('---------------sorted---------------')\n",
    "    for i in range(num):\n",
    "        print(f'x[{i}]={x[i]}')\n",
    "    print(f'the size of array is {len(x)}')"
   ]
  }
 ],
 "metadata": {
  "kernelspec": {
   "display_name": "Python 3.10.5 64-bit",
   "language": "python",
   "name": "python3"
  },
  "language_info": {
   "codemirror_mode": {
    "name": "ipython",
    "version": 3
   },
   "file_extension": ".py",
   "mimetype": "text/x-python",
   "name": "python",
   "nbconvert_exporter": "python",
   "pygments_lexer": "ipython3",
   "version": "3.10.5"
  },
  "orig_nbformat": 4,
  "vscode": {
   "interpreter": {
    "hash": "879a25a323e83519e32c1bcdf6459ccfc2cf5321e10bc67073a59502e5f9cd53"
   }
  }
 },
 "nbformat": 4,
 "nbformat_minor": 2
}
