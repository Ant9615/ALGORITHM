{
 "cells": [
  {
   "cell_type": "markdown",
   "metadata": {},
   "source": [
    "# 3. Merge Sort\n",
    "+ array를 앞과 뒤 두 그룹으로 나누어 각각 정렬 후 병합하는 작업을 반복하는 알고리즘임\n",
    "\n",
    "__Merge Process__\n",
    "+ sorting 마친 후의 merge 과정\n",
    "+ 각 array에서 주목하는 component의 값을 비교하여 작은 쪽의 component를 꺼내 새로운 array에 저장\n",
    "    + 위 작업을 반복하며 sorting을 마친 array를 만듦 \n",
    "    + time complexity: O(n)"
   ]
  },
  {
   "cell_type": "code",
   "execution_count": 1,
   "metadata": {},
   "outputs": [
    {
     "name": "stdout",
     "output_type": "stream",
     "text": [
      "save to c by merge array a and b\n",
      "array a: [2, 4, 6, 8, 11, 13]\n",
      "array b: [1, 2, 3, 4, 9, 16, 21]\n",
      "array c: [1, 2, 2, 3, 4, 4, 6, 8, 9, 11, 13, 16, 21]\n"
     ]
    }
   ],
   "source": [
    "# straight merge algorithm\n",
    "from typing import Sequence, MutableSequence\n",
    "\n",
    "def merge_sorted_list(a: Sequence, b: Sequence, c: MutableSequence) -> None:\n",
    "    pa, pb, pc = 0,0,0 # cursor of each array\n",
    "    na, nb, nc = len(a), len(b), len(c)\n",
    "    \n",
    "    # compare pa and pb, and save small value to pc\n",
    "    while pa < na and pb < nb: \n",
    "        if a[pa] <= b[pb]:\n",
    "            c[pc] = a[pa]\n",
    "            pa += 1\n",
    "        else: \n",
    "            c[pc] = b[pb]\n",
    "            pb += 1\n",
    "        pc += 1\n",
    "    # copy component to c about remain in a\n",
    "    while pa < na:\n",
    "        c[pc] = a[pa]\n",
    "        pa += 1\n",
    "        pc += 1 \n",
    "    \n",
    "    # copy component to c about remain in b\n",
    "    while pb < nb:\n",
    "        c[pc] = b[pb]\n",
    "        pb += 1\n",
    "        pc += 1\n",
    "\n",
    "if __name__ == \"__main__\":\n",
    "    a = [2,4,6,8,11,13]\n",
    "    b = [1,2,3,4,9,16,21]\n",
    "    c = [None]*(len(a)+len(b))\n",
    "    \n",
    "    merge_sorted_list(a,b,c)\n",
    "    print('save to c by merge array a and b')\n",
    "    print(f'array a: {a}')\n",
    "    print(f'array b: {b}')\n",
    "    print(f'array c: {c}')"
   ]
  },
  {
   "cell_type": "markdown",
   "metadata": {},
   "source": [
    "## 2-1. Merge Sort Algorithm\n",
    "+ sorting을 마친 array의 merge를 응용하여 divide and conquer에 따라 정렬하는 algorithm\n",
    "\n",
    "__array의 component 수가 2개 이상인 경우__\n",
    "1. array의 앞부분을 merge sort로 sorting\n",
    "2. array의 뒷부분을 merge sort로 sorting\n",
    "3. array의 앞부분과 뒷부분을 merging   "
   ]
  },
  {
   "cell_type": "code",
   "execution_count": null,
   "metadata": {},
   "outputs": [],
   "source": [
    "#  merge sort\n",
    "from typing import MutableSequence\n",
    "\n",
    "def merge_sort(a: MutableSequence):\n",
    "    # merge sort\n",
    "    def _merge_sort(a: MutableSequence, left: int, right: int) -> None:\n",
    "        # merge sort a[left] ~ a[right] by recursively\n",
    "        if left < right:\n",
    "            center = (left+right) // 2\n",
    "            \n",
    "            _merge_sort(a, left, center) # sort front part\n",
    "            _merge_sort(a, center+1, right) # sort back part\n",
    "            \n",
    "            p=j=0\n",
    "            i=k=left\n",
    "            \n",
    "            # when ending of the works, p will be 'center-left+1'(number of components by copied)\n",
    "            while i <= center: \n",
    "                buff[p] = a[i]\n",
    "                p+=1\n",
    "                i+=1\n",
    "            \n",
    "            # save to array b about back part of array and the result by merging copied array of front part to array buff  \n",
    "            while i <= right and j<p:\n",
    "                if buff[j] <= a[i]:\n",
    "                    a[k] = buff[j]\n",
    "                    j+=1\n",
    "                else:\n",
    "                    a[k]=a[i]\n",
    "                    i+=1\n",
    "                k+=1\n",
    "            \n",
    "            # copy component to array a about remain component in array buff \n",
    "            while j<p:\n",
    "                a[k] = buff[j]\n",
    "                k+=1\n",
    "                j+=1\n",
    "    n = len(a)\n",
    "    buff=[None]*n # generate array for works\n",
    "    _merge_sort(a,0,n-1) # merge sort about all array\n",
    "    del buff\n",
    "    \n",
    "if __name__ == \"__main__\":\n",
    "    num = int(input('put your number of components: '))\n",
    "    x = [None]*num\n",
    "    \n",
    "    for i in range(num):\n",
    "        x[i] = int(input(f'x[{i}]: '))\n",
    "    \n",
    "    merge_sort(x)\n",
    "    \n",
    "    print('-------------sorted-------------')\n",
    "    for i in range(num):\n",
    "        print(f'x[{i}]: {x[i]}')\n",
    "    "
   ]
  }
 ],
 "metadata": {
  "kernelspec": {
   "display_name": "Python 3.10.5 64-bit",
   "language": "python",
   "name": "python3"
  },
  "language_info": {
   "codemirror_mode": {
    "name": "ipython",
    "version": 3
   },
   "file_extension": ".py",
   "mimetype": "text/x-python",
   "name": "python",
   "nbconvert_exporter": "python",
   "pygments_lexer": "ipython3",
   "version": "3.10.5"
  },
  "orig_nbformat": 4,
  "vscode": {
   "interpreter": {
    "hash": "879a25a323e83519e32c1bcdf6459ccfc2cf5321e10bc67073a59502e5f9cd53"
   }
  }
 },
 "nbformat": 4,
 "nbformat_minor": 2
}
