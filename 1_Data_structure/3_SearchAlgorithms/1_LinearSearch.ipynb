{
 "cells": [
  {
   "cell_type": "markdown",
   "metadata": {},
   "source": [
    "# Linear Search\n",
    "__Conditions__\n",
    "+ 검색할 값을 찾지 못하고 배열의 맨 끝을 지나간 경우 -> 검색 실패\n",
    "+ 검색할 값과 같은 원소를 찾는 경우 -> 검색 성공\n",
    "\n",
    "__Ending Conditions__\n",
    "1. if i == len(a)가 성립\n",
    "2. if a[i]==key가 성립하면 스캔 종료"
   ]
  },
  {
   "cell_type": "code",
   "execution_count": 2,
   "metadata": {},
   "outputs": [
    {
     "name": "stdout",
     "output_type": "stream",
     "text": [
      "not in here\n"
     ]
    }
   ],
   "source": [
    "from typing import Any, Sequence\n",
    "\n",
    "def seq_search_while(a: Sequence, key: Any) -> int: \n",
    "    i = 0\n",
    "    \n",
    "    while True:\n",
    "        if i == len(a):\n",
    "            return False\n",
    "        if a[i] == key:\n",
    "            return i\n",
    "        i += 1\n",
    "        \n",
    "def seq_search_for(a: Sequence, key: Any) -> int:\n",
    "    for i in range(len(a)):\n",
    "        if a[i] == key:\n",
    "            return i\n",
    "\n",
    "    return False\n",
    "    \n",
    "\n",
    "if __name__ == \"__main__\":\n",
    "    num = int(input('put number of components: '))\n",
    "    x = [None] * num\n",
    "    \n",
    "    for i in range(num):\n",
    "        x[i] = int(input(f'x[{i}]: '))\n",
    "        \n",
    "    ky = int(input('put your want: '))\n",
    "    \n",
    "    idx = seq_search_while(x, ky)\n",
    "    \n",
    "    if idx == False:\n",
    "        print('not in here')\n",
    "        \n",
    "    else:\n",
    "        print(f'the your want is in x[{idx}]')"
   ]
  },
  {
   "cell_type": "markdown",
   "metadata": {},
   "source": [
    "## Sential Mrthod(보초법)\n",
    "+ 종료조건에서 판단과정에서 발생하는 cost를 반으로 줄이는 방법 \n",
    "    + 즉, 종료조건에서 if i == len(a) 성립 시 종료하는 것을 보초법에서 뻄\n",
    "+ 검색하고자 하는 key를 배열의 맨 끝에 저장(sential)\n",
    "\n",
    "\n",
    "__copy module__\n",
    "+ copy(): list를 복사한 후 원솟값을 변경하면 복사된 원솟값까지 변경될 수 있음\n",
    "    + 원소가 참조하는 곳까지 복사됨 -> 원본이 변경되면 복사본까지 변경됨\n",
    "    + 즉, 객체가 참조 자료형의 member를 포함할 경우 \n",
    "+ deepcopy(): 구성원소 수준으로 복사. 즉, 참조하는 객체 자체를 복사함"
   ]
  },
  {
   "cell_type": "code",
   "execution_count": 3,
   "metadata": {},
   "outputs": [
    {
     "name": "stdout",
     "output_type": "stream",
     "text": [
      "the your want is in x[3]\n"
     ]
    }
   ],
   "source": [
    "from typing import Any, Sequence\n",
    "import copy\n",
    "\n",
    "def seq_search(seq: Sequence, key: Any) -> int:\n",
    "    a = copy.deepcopy(seq) # copy the seq\n",
    "    a.append(key) # add sential key\n",
    "    \n",
    "    i = 0\n",
    "    while True:\n",
    "        if a[i] == key:\n",
    "            break\n",
    "        i+=1\n",
    "    \n",
    "    return False if i == len(seq) else i\n",
    "\n",
    "if __name__ == \"__main__\":\n",
    "    num = int(input('put number of components: '))\n",
    "    x = [None] * num\n",
    "    \n",
    "    for i in range(num):\n",
    "        x[i] = int(input(f'x[{i}]: '))\n",
    "        \n",
    "    ky = int(input('put your want: '))\n",
    "    \n",
    "    idx = seq_search(x, ky)\n",
    "    \n",
    "    if idx == False:\n",
    "        print('not in here')\n",
    "        \n",
    "    else:\n",
    "        print(f'the your want is in x[{idx}]')"
   ]
  }
 ],
 "metadata": {
  "kernelspec": {
   "display_name": "Python 3.10.5 64-bit",
   "language": "python",
   "name": "python3"
  },
  "language_info": {
   "codemirror_mode": {
    "name": "ipython",
    "version": 3
   },
   "file_extension": ".py",
   "mimetype": "text/x-python",
   "name": "python",
   "nbconvert_exporter": "python",
   "pygments_lexer": "ipython3",
   "version": "3.10.5"
  },
  "orig_nbformat": 4,
  "vscode": {
   "interpreter": {
    "hash": "879a25a323e83519e32c1bcdf6459ccfc2cf5321e10bc67073a59502e5f9cd53"
   }
  }
 },
 "nbformat": 4,
 "nbformat_minor": 2
}
