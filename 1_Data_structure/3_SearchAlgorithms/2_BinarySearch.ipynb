{
 "cells": [
  {
   "cell_type": "markdown",
   "metadata": {},
   "source": [
    "# Binary Search\n",
    "+ condition: given is already sorted(ascending or descending)\n",
    "+ this method more faster than linear search\n",
    "+ the search step going to half and half    \n",
    "+ variable \n",
    "    + first point: pl = list[0]\n",
    "    + last point: pr = list[n-1]\n",
    "    + median point: pc = list[(n-1)//2]\n",
    "\n",
    "\n",
    "__end conditions__\n",
    "1. list[pc] == key\n",
    "2. is no more range "
   ]
  },
  {
   "cell_type": "code",
   "execution_count": 4,
   "metadata": {},
   "outputs": [
    {
     "name": "stdout",
     "output_type": "stream",
     "text": [
      "please descending when put in: \n",
      "your want is in x[3]\n"
     ]
    }
   ],
   "source": [
    "from typing import Any, Sequence\n",
    "\n",
    "def bin_search(a: Sequence, key: Any) -> int:\n",
    "    pl = 0\n",
    "    pr = len(a)-1\n",
    "    \n",
    "    while True: \n",
    "        pc = (pl+pr)//2\n",
    "        if a[pc] == key:\n",
    "            return pc\n",
    "        elif a[pc] < key:\n",
    "            pl = pc+1\n",
    "        else:\n",
    "            pr = pc-1\n",
    "        \n",
    "        if pl>pc:\n",
    "            break\n",
    "    \n",
    "    return False # if not in here, return False\n",
    "\n",
    "if __name__ == \"__main__\":\n",
    "    num = int(input('put in yout number of components: '))\n",
    "    x = [None]*num\n",
    "    \n",
    "    print('please descending when put in: ')\n",
    "    \n",
    "    x[0] = int(input('x[0]: '))\n",
    "    \n",
    "    for i in range(1, num):\n",
    "        while True: \n",
    "            x[i] = int(input(f'x[{i}]: '))\n",
    "            if x[i] >= x[i-1]:\n",
    "                break\n",
    "            \n",
    "    ky = int(input('what your looking for?: '))\n",
    "    \n",
    "    idx = bin_search(x, ky)\n",
    "    \n",
    "    if idx == False: \n",
    "        print('your want isn`t here')\n",
    "    else: \n",
    "        print(f'your want is in x[{idx}]')\n",
    "        "
   ]
  }
 ],
 "metadata": {
  "kernelspec": {
   "display_name": "Python 3.10.5 64-bit",
   "language": "python",
   "name": "python3"
  },
  "language_info": {
   "codemirror_mode": {
    "name": "ipython",
    "version": 3
   },
   "file_extension": ".py",
   "mimetype": "text/x-python",
   "name": "python",
   "nbconvert_exporter": "python",
   "pygments_lexer": "ipython3",
   "version": "3.10.5"
  },
  "orig_nbformat": 4,
  "vscode": {
   "interpreter": {
    "hash": "879a25a323e83519e32c1bcdf6459ccfc2cf5321e10bc67073a59502e5f9cd53"
   }
  }
 },
 "nbformat": 4,
 "nbformat_minor": 2
}
