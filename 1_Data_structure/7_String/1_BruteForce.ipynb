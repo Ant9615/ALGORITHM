{
 "cells": [
  {
   "attachments": {},
   "cell_type": "markdown",
   "metadata": {},
   "source": [
    "# 1. Brute Force\n",
    "+ linear search를 확장하여 단순법이라 부름\n",
    "    + 'ABCDEFGHI'에서 'ABC'패턴을 검색하는 것임 "
   ]
  },
  {
   "cell_type": "code",
   "execution_count": 1,
   "metadata": {},
   "outputs": [
    {
     "name": "stdout",
     "output_type": "stream",
     "text": [
      "the pattern is in 1\n"
     ]
    }
   ],
   "source": [
    "def bf_match(txt:str, pat:str) -> int:\n",
    "    # --------------main algorithm--------------\n",
    "    # search using brute force\n",
    "    pt = 0 # cursor for txt \n",
    "    pp = 0 # cursor for pat\n",
    "    \n",
    "    while pt != len(txt) and pp != len(pat):\n",
    "        if txt[pt] == pat[pp]:\n",
    "            pt+=1\n",
    "            pp+=1\n",
    "        else:\n",
    "            pt = pt - pp + 1\n",
    "            pp = 0\n",
    "    return pt-pp if pp==len(pat) else -1 \n",
    "# -----------------------------------------------\n",
    "\n",
    "if __name__ == \"__main__\":\n",
    "    s1 = input('put your text: ') # txt, cursor is pt\n",
    "    s2 = input('put your pattern: ') # pat, cursor is pp\n",
    "    \n",
    "    idx = bf_match(s1,s2)\n",
    "    \n",
    "    if idx == -1: \n",
    "        print('don`t exist pattern in your text')\n",
    "    else:\n",
    "        print(f'the pattern is in {(idx+1)}')"
   ]
  }
 ],
 "metadata": {
  "kernelspec": {
   "display_name": "Python 3.10.5 64-bit",
   "language": "python",
   "name": "python3"
  },
  "language_info": {
   "codemirror_mode": {
    "name": "ipython",
    "version": 3
   },
   "file_extension": ".py",
   "mimetype": "text/x-python",
   "name": "python",
   "nbconvert_exporter": "python",
   "pygments_lexer": "ipython3",
   "version": "3.10.5"
  },
  "orig_nbformat": 4,
  "vscode": {
   "interpreter": {
    "hash": "879a25a323e83519e32c1bcdf6459ccfc2cf5321e10bc67073a59502e5f9cd53"
   }
  }
 },
 "nbformat": 4,
 "nbformat_minor": 2
}
