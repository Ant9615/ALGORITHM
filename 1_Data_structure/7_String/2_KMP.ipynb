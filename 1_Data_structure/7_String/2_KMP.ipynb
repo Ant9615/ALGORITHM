{
 "cells": [
  {
   "attachments": {},
   "cell_type": "markdown",
   "metadata": {},
   "source": [
    "# 2. Knuth-Morris-Pratt(KMP)\n",
    "+ brute force는 단순 검색방법으로 복잡도가 높음\n",
    "+ KMP는 brute force보다 효율적이며, 검사했던 결과를 재활용함\n",
    "+ text와 pattern 안에서 겹치는\n"
   ]
  },
  {
   "cell_type": "code",
   "execution_count": null,
   "metadata": {},
   "outputs": [],
   "source": []
  }
 ],
 "metadata": {
  "kernelspec": {
   "display_name": "Python 3.10.5 64-bit",
   "language": "python",
   "name": "python3"
  },
  "language_info": {
   "name": "python",
   "version": "3.10.5"
  },
  "orig_nbformat": 4,
  "vscode": {
   "interpreter": {
    "hash": "879a25a323e83519e32c1bcdf6459ccfc2cf5321e10bc67073a59502e5f9cd53"
   }
  }
 },
 "nbformat": 4,
 "nbformat_minor": 2
}
