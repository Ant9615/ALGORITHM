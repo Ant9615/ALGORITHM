{
 "cells": [
  {
   "attachments": {},
   "cell_type": "markdown",
   "metadata": {},
   "source": [
    "# 2. Knuth-Morris-Pratt(KMP)\n",
    "+ brute force는 단순 검색방법으로 효율적이지 않음\n",
    "+ KMP는 brute force보다 효율적이며, 검사했던 결과를 재활용함\n",
    "+ text와 pattern 안에서 겹치는 문자열을 찾아내 검사를 다시 시작할 위치를 구하여 pattern의 이동을 되도록이면 크게하는 algorithm\n",
    "+ 몇번째 문자부터 다시 검색할지 값을 table로 만들어 문제를 해결함\n"
   ]
  },
  {
   "cell_type": "code",
   "execution_count": null,
   "metadata": {},
   "outputs": [],
   "source": []
  }
 ],
 "metadata": {
  "kernelspec": {
   "display_name": "Python 3.10.5 64-bit",
   "language": "python",
   "name": "python3"
  },
  "language_info": {
   "name": "python",
   "version": "3.10.5 (tags/v3.10.5:f377153, Jun  6 2022, 16:14:13) [MSC v.1929 64 bit (AMD64)]"
  },
  "orig_nbformat": 4,
  "vscode": {
   "interpreter": {
    "hash": "879a25a323e83519e32c1bcdf6459ccfc2cf5321e10bc67073a59502e5f9cd53"
   }
  }
 },
 "nbformat": 4,
 "nbformat_minor": 2
}
