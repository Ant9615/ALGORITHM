{
 "cells": [
  {
   "cell_type": "code",
   "execution_count": 2,
   "metadata": {},
   "outputs": [
    {
     "name": "stdout",
     "output_type": "stream",
     "text": [
      "convert decimal to other radix\n",
      "11101\n"
     ]
    }
   ],
   "source": [
    "def card_conv(x: int, r:int)->str:\n",
    "    d='' # sting of after convert\n",
    "    dchar = '0123456789ABCDEFGHIJKLMNOPQRSTUVWXYZ' \n",
    "    \n",
    "    while x>0:\n",
    "        d += dchar[x%r] # combine\n",
    "        x //= r\n",
    "        \n",
    "    return d[::-1] # convert to reverse order\n",
    "\n",
    "if __name__ == '__main__':\n",
    "    print('convert decimal to other radix')\n",
    "    \n",
    "    while True:\n",
    "        while True:\n",
    "            no = int(input('put integer which return about not negative: '))\n",
    "            if no > 0:\n",
    "                break\n",
    "        while True: \n",
    "            cd = int(input('how to convert what radix?: '))\n",
    "            if 2<= cd <= 36:\n",
    "                break\n",
    "        \n",
    "        print(f'{card_conv(no, cd)}')\n",
    "        \n",
    "        re = input('Again?(Y----Yes / N----No): ')\n",
    "        if re in {'N','n'}:\n",
    "            break"
   ]
  }
 ],
 "metadata": {
  "kernelspec": {
   "display_name": "Python 3.10.5 64-bit",
   "language": "python",
   "name": "python3"
  },
  "language_info": {
   "codemirror_mode": {
    "name": "ipython",
    "version": 3
   },
   "file_extension": ".py",
   "mimetype": "text/x-python",
   "name": "python",
   "nbconvert_exporter": "python",
   "pygments_lexer": "ipython3",
   "version": "3.10.5"
  },
  "orig_nbformat": 4,
  "vscode": {
   "interpreter": {
    "hash": "879a25a323e83519e32c1bcdf6459ccfc2cf5321e10bc67073a59502e5f9cd53"
   }
  }
 },
 "nbformat": 4,
 "nbformat_minor": 2
}
